{
 "cells": [
  {
   "cell_type": "code",
   "execution_count": 1,
   "id": "cd4fda2f-4d25-4d4e-98ac-4f720d7dcdc5",
   "metadata": {},
   "outputs": [],
   "source": [
    "import concurrent.futures\n",
    "import time\n",
    "import json\n",
    "from urllib.parse import urljoin\n",
    "import pandas as pd\n",
    "import requests\n",
    "from bs4 import BeautifulSoup\n",
    "from selenium import webdriver\n",
    "import undetected_chromedriver as uc\n",
    "from selenium.webdriver.chrome.options import Options\n",
    "headers = {\n",
    "    \"User-Agent\": \"Mozilla/5.0 (Windows NT 10.0; Win64; x64) AppleWebKit/537.36 (KHTML, like Gecko) Chrome/122.0.0.0 Safari/537.36\"}\n",
    "\n",
    "chrome_options = Options()\n",
    "chrome_options.add_argument(\"--no-sandbox\")\n",
    "# chrome_options.add_argument('--headless')\n",
    "chrome_options.add_argument(f'user-agent={headers[\"User-Agent\"]}')\n",
    "driver = webdriver.Chrome(options=chrome_options)\n",
    "driver.maximize_window()\n",
    "url = 'https://uk.trustpilot.com/review/raptorsupplies.com?languages=all&page=5'\n",
    "driver.get(url)\n",
    "time.sleep(5)\n",
    "page_sources = driver.page_source\n",
    "pk = BeautifulSoup(page_sources, 'lxml')\n"
   ]
  },
  {
   "cell_type": "code",
   "execution_count": null,
   "id": "c1d22ac6-52b2-405e-9bae-4eece2027560",
   "metadata": {},
   "outputs": [],
   "source": [
    "title = [title_text.strip() for title_text in pk.select(\"article div.styles_reviewCardInner__EwDq2 aside [data-consumer-name-typography]\")]"
   ]
  },
  {
   "cell_type": "code",
   "execution_count": 2,
   "id": "f4e2217b-317b-49b4-942e-64560da24944",
   "metadata": {},
   "outputs": [],
   "source": [
    "import json\n",
    "data_parse = ''\n",
    "scripts = pk.find_all('script')\n",
    "for script in scripts:\n",
    "    if 'var model = {\"ProductViewModel\":' in script.text:\n",
    "        json_data = script.text.split('var model = ')[1].split(';')[0]\n",
    "        # Parse the JSON content\n",
    "        data_parse = json.loads(json_data)\n",
    "        # print(data_parse)"
   ]
  },
  {
   "cell_type": "code",
   "execution_count": 3,
   "id": "8e29224a-055e-447e-8f59-73ab5914b891",
   "metadata": {},
   "outputs": [
    {
     "name": "stdout",
     "output_type": "stream",
     "text": [
      "SKU..... 7TCG009930R0037\n"
     ]
    }
   ],
   "source": [
    "mpn = data_parse['ProductViewModel']['Product']['productDetails']['item']['productId']\n",
    "print('SKU.....', mpn)"
   ]
  },
  {
   "cell_type": "code",
   "execution_count": 4,
   "id": "dc65212d-0dab-48a4-a7f0-ef674422408e",
   "metadata": {},
   "outputs": [
    {
     "name": "stdout",
     "output_type": "stream",
     "text": [
      "product_title..... TY-RAP DISP 25\n"
     ]
    }
   ],
   "source": [
    "product_title = data_parse['ProductViewModel']['Product']['productDetails']['item']['attributes']['ExtendedProductType']['values'][0]['text']\n",
    "print('product_title.....', product_title)"
   ]
  },
  {
   "cell_type": "code",
   "execution_count": 5,
   "id": "3aabb727-e091-44b8-9820-41fce87e5d43",
   "metadata": {},
   "outputs": [
    {
     "data": {
      "text/plain": [
       "'CABLE TIE DISPENSER FOR TY25'"
      ]
     },
     "execution_count": 5,
     "metadata": {},
     "output_type": "execute_result"
    }
   ],
   "source": [
    "short = data_parse['ProductViewModel']['Product']['productDetails']['item']['attributes']['CatalogDescription']['values'][0]['text']\n",
    "short_desc = short\n",
    "short"
   ]
  },
  {
   "cell_type": "code",
   "execution_count": 11,
   "id": "5b244fdc-7ce0-4f72-972b-b4b80d2e3095",
   "metadata": {},
   "outputs": [
    {
     "name": "stdout",
     "output_type": "stream",
     "text": [
      "{'desc': 'CABLE TIE DISPENSER FOR TY25', 'instructions': [], 'short_desc': 'CABLE TIE DISPENSER FOR TY25'}\n"
     ]
    }
   ],
   "source": [
    "desc = data_parse['ProductViewModel']['Product']['productDetails']['item']['attributes']['LongDescription']['values'][0]['text']\n",
    "description_1 = {\"desc\": desc, 'instructions': [], 'short_desc': short_desc}\n",
    "print(description_1)"
   ]
  },
  {
   "cell_type": "code",
   "execution_count": 6,
   "id": "9b3d1fd8-94a8-4cc8-b29c-57dc6558f037",
   "metadata": {},
   "outputs": [
    {
     "name": "stdout",
     "output_type": "stream",
     "text": [
      "[{'EAN': '5415022381672'}, {'UPC': '786210085791'}, {'Country of Origin': 'Thailand (TH)'}, {'Selling Unit of Measure': 'each'}, {'Package Level 1 Units': '1 piece'}, {'Package Level 1 Width': '0.75 in>19 mm'}, {'Package Level 1 Height': '6 in>152 mm'}, {'Package Level 1 Depth / Length': '12 in>305 mm'}, {'Package Level 2 Units': '10 piece'}, {'Package Level 2 Width': '10.25 in>260 mm'}, {'Package Level 2 Height': '9 in>229 mm'}, {'Package Level 2 Depth / Length': '13.5 in>343 mm'}, {'Brand / Label': 'Ty-Rap'}, {'Effective Date': '20160422'}, {'Product Name': 'OTHER ARTICLES OF PLASTIC'}, {'Data Sheet, Technical Information': 'TY-RAP DISP 25'}, {'ETIM 6': 'EC002225 - Tool belt'}, {'ETIM 7': 'EC002225 - Tool belt'}, {'ETIM 8': 'EC002225 - Tool belt'}, {'UNSPSC': '39121703'}, {'WEEE Category': 'Product Not in WEEE Scope'}, {'IDEA Granular Category Code (IGCC)': '5034 >> Cable ties'}]\n"
     ]
    }
   ],
   "source": [
    "attri_name = []\n",
    "attri_value = []\n",
    "attribute_groups_table = data_parse['ProductViewModel']['Product']['attributeGroups']['items']\n",
    "for group in attribute_groups_table:\n",
    "    attributes = group['attributes']\n",
    "    for attribute in attributes.values():\n",
    "        attribute_name = attribute['attributeName']\n",
    "        attri_name.append(attribute_name)\n",
    "        attribute_value = attribute['values']\n",
    "        texts = [value['text'] for value in attribute_value]\n",
    "        attri_value.append('>'.join(texts))\n",
    "specs = [{name: value} for name, value in zip(attri_name, attri_value)]\n",
    "print(specs)"
   ]
  },
  {
   "cell_type": "code",
   "execution_count": 9,
   "id": "07699ceb-cc04-4f07-8bca-326c350eeb92",
   "metadata": {},
   "outputs": [
    {
     "data": {
      "text/plain": [
       "{'src': 'https://cdn.productimages.abb.com/9PAA00000004166_master.jpg'}"
      ]
     },
     "execution_count": 9,
     "metadata": {},
     "output_type": "execute_result"
    }
   ],
   "source": [
    "Images = {'src':data_parse['ProductViewModel']['Product']['productDetails']['item']['images'][0]['masterUrl']}\n",
    "Images"
   ]
  },
  {
   "cell_type": "code",
   "execution_count": 10,
   "id": "a1fab08c-d768-4dc2-928e-ac330cab46e7",
   "metadata": {},
   "outputs": [
    {
     "data": {
      "text/plain": [
       "[{'src': 'https://cdn.productimages.abb.com/9PAA00000004166_master.jpg'}]"
      ]
     },
     "execution_count": 10,
     "metadata": {},
     "output_type": "execute_result"
    }
   ],
   "source": [
    "images = [{'src':data_parse['ProductViewModel']['Product']['productDetails']['item']['images'][0]['masterUrl']}]\n",
    "images"
   ]
  },
  {
   "cell_type": "code",
   "execution_count": null,
   "id": "ccb6781a-5576-4e0f-867b-260b562f3caa",
   "metadata": {},
   "outputs": [],
   "source": []
  }
 ],
 "metadata": {
  "kernelspec": {
   "display_name": "Python 3 (ipykernel)",
   "language": "python",
   "name": "python3"
  },
  "language_info": {
   "codemirror_mode": {
    "name": "ipython",
    "version": 3
   },
   "file_extension": ".py",
   "mimetype": "text/x-python",
   "name": "python",
   "nbconvert_exporter": "python",
   "pygments_lexer": "ipython3",
   "version": "3.12.4"
  }
 },
 "nbformat": 4,
 "nbformat_minor": 5
}
