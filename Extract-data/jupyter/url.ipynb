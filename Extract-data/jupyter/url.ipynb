{
 "cells": [
  {
   "cell_type": "code",
   "execution_count": 1,
   "id": "b72a29aa-33b8-45d3-88cb-b61737610bea",
   "metadata": {},
   "outputs": [],
   "source": [
    "import time\n",
    "\n",
    "from selenium import webdriver\n",
    "from selenium.webdriver.common.by import By\n",
    "from selenium.webdriver.support.ui import WebDriverWait\n",
    "from selenium.webdriver.support import expected_conditions as EC\n",
    "from selenium.common.exceptions import NoSuchElementException\n",
    "\n",
    "driver = webdriver.Chrome()\n",
    "driver.maximize_window()\n",
    "\n",
    "url = 'https://www.sloan.com/commercial-bathroom-products/parts/browse?level=product'\n",
    "driver.get(url)\n",
    "time.sleep(4)\n",
    "\n"
   ]
  },
  {
   "cell_type": "code",
   "execution_count": 20,
   "id": "840b94ba-2ee5-4b8c-aa62-70db75caa5f8",
   "metadata": {},
   "outputs": [
    {
     "name": "stdout",
     "output_type": "stream",
     "text": [
      "                                                  URL\n",
      "0   https://www.sloan.com/commercial-bathroom-prod...\n",
      "1   https://www.sloan.com/commercial-bathroom-prod...\n",
      "2   https://www.sloan.com/commercial-bathroom-prod...\n",
      "3   https://www.sloan.com/commercial-bathroom-prod...\n",
      "4   https://www.sloan.com/commercial-bathroom-prod...\n",
      "..                                                ...\n",
      "80  https://www.sloan.com/commercial-bathroom-prod...\n",
      "81  https://www.sloan.com/commercial-bathroom-prod...\n",
      "82  https://www.sloan.com/commercial-bathroom-prod...\n",
      "83  https://www.sloan.com/commercial-bathroom-prod...\n",
      "84  https://www.sloan.com/commercial-bathroom-prod...\n",
      "\n",
      "[85 rows x 1 columns]\n"
     ]
    }
   ],
   "source": [
    "import pandas as pd\n",
    "product_urls = []\n",
    "for href_tag in driver.find_elements(By.CSS_SELECTOR, \"h2.slo-card--title a\"):\n",
    "    product_url = href_tag.get_attribute('href')\n",
    "    if product_url:\n",
    "        product_urls.append(product_url)\n",
    "\n",
    "df = pd.DataFrame(product_urls, columns=['URL'])\n",
    "print(df)\n",
    "df.to_csv('sloan_url1.csv', mode='a+', index=False)"
   ]
  },
  {
   "cell_type": "code",
   "execution_count": null,
   "id": "ff9aa020-590f-42d2-a302-b820ed1d86de",
   "metadata": {},
   "outputs": [],
   "source": [
    "\n",
    "    \n",
    "    \n"
   ]
  },
  {
   "cell_type": "code",
   "execution_count": null,
   "id": "58d6cc03-a6c0-40d8-afef-567391ac45b6",
   "metadata": {},
   "outputs": [],
   "source": []
  }
 ],
 "metadata": {
  "kernelspec": {
   "display_name": "Python 3 (ipykernel)",
   "language": "python",
   "name": "python3"
  },
  "language_info": {
   "codemirror_mode": {
    "name": "ipython",
    "version": 3
   },
   "file_extension": ".py",
   "mimetype": "text/x-python",
   "name": "python",
   "nbconvert_exporter": "python",
   "pygments_lexer": "ipython3",
   "version": "3.12.4"
  }
 },
 "nbformat": 4,
 "nbformat_minor": 5
}
