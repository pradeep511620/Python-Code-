{
 "cells": [
  {
   "cell_type": "code",
   "execution_count": 5,
   "id": "021c5da7-4721-4e75-b800-b5879a2f5c9f",
   "metadata": {},
   "outputs": [],
   "source": [
    "import time\n",
    "import pandas as pd\n",
    "from selenium import webdriver\n",
    "import undetected_chromedriver as uc\n",
    "from selenium.webdriver.chrome.options import Options\n",
    "from selenium .webdriver.common.by import By\n",
    "headers = {\n",
    "    \"User-Agent\": \"Mozilla/5.0 (Windows NT 10.0; Win64; x64) AppleWebKit/537.36 (KHTML, like Gecko) Chrome/122.0.0.0 Safari/537.36\"}\n",
    "\n",
    "chrome_options = Options()\n",
    "chrome_options.add_argument(\"--no-sandbox\")\n",
    "# chrome_options.add_argument('--headless')\n",
    "chrome_options.add_argument(f'user-agent={headers[\"User-Agent\"]}')\n",
    "driver = webdriver.Chrome(options=chrome_options)\n",
    "driver.maximize_window()\n",
    "url = 'https://www.grainger.com/product/3M-CUBITRON-II-Fiber-Disc-5-in-x-7-8-in-5EKK5'\n",
    "driver.get(url)\n",
    "time.sleep(5)"
   ]
  },
  {
   "cell_type": "code",
   "execution_count": 9,
   "id": "c01f3b8b-fed8-4e19-ad91-b65e5f9af4d0",
   "metadata": {},
   "outputs": [
    {
     "data": {
      "text/plain": [
       "'3M CUBITRON II Fiber Disc: 5 in x 7/8 in, Ceramic, 36 Grit, 982C, 25 PK'"
      ]
     },
     "execution_count": 9,
     "metadata": {},
     "output_type": "execute_result"
    }
   ],
   "source": [
    "title = driver.find_element(By.CSS_SELECTOR, \"div[data-testid] h1\").text\n",
    "title"
   ]
  },
  {
   "cell_type": "code",
   "execution_count": 19,
   "id": "1d5e8273-fc91-4ba2-a959-579572379562",
   "metadata": {},
   "outputs": [
    {
     "name": "stdout",
     "output_type": "stream",
     "text": [
      "5EKK5\n"
     ]
    }
   ],
   "source": [
    "for item_div in driver.find_elements(By.CSS_SELECTOR, \"div[data-testid='pdp-header'] dl .vDgTDH\"):\n",
    "    item_number = item_div.text.strip()    \n",
    "    if \"Item\" in item_number:\n",
    "        item = item_number.replace(\"Item \", \"\")\n",
    "        print(item)"
   ]
  },
  {
   "cell_type": "code",
   "execution_count": 23,
   "id": "675c1930-ba99-45c8-8f8e-909d609a6ea8",
   "metadata": {},
   "outputs": [
    {
     "name": "stdout",
     "output_type": "stream",
     "text": [
      "7000000392\n"
     ]
    }
   ],
   "source": [
    "for model_div in driver.find_elements(By.CSS_SELECTOR, \"div[data-testid='pdp-header'] dl .vDgTDH\"):\n",
    "    model_number = model_div.text.strip()    \n",
    "    if \"Model \" in model_number:\n",
    "        model = model_number.replace(\"Mfr. Model \", \"\")\n",
    "        print(model)"
   ]
  },
  {
   "cell_type": "code",
   "execution_count": 24,
   "id": "4b835a6b-bcc8-435f-9456-2b23e09ca874",
   "metadata": {},
   "outputs": [
    {
     "name": "stdout",
     "output_type": "stream",
     "text": [
      "5EKK5\n",
      "7000000392\n"
     ]
    }
   ],
   "source": [
    "for item_div in driver.find_elements(By.CSS_SELECTOR, \"div[data-testid='pdp-header'] dl .vDgTDH\"):\n",
    "    data_number = item_div.text.strip()\n",
    "    if \"Item\" in data_number:\n",
    "        item = data_number.replace(\"Item \", \"\")\n",
    "        print(item)\n",
    "        \n",
    "    elif \"Model \" in data_number:\n",
    "        model = data_number.replace(\"Mfr. Model \", \"\")\n",
    "        print(model)"
   ]
  },
  {
   "cell_type": "code",
   "execution_count": 25,
   "id": "32ea0c16-2a13-4cd9-bbcc-dee7d732ef87",
   "metadata": {},
   "outputs": [
    {
     "name": "stdout",
     "output_type": "stream",
     "text": [
      "[{'Brand': '3M CUBITRON II'}, {'Manufacturer Part Number': '7000000392'}, {'Series': '982C'}, {'Diameter': '5 in'}, {'Arbor Hole Size': '7/8 in'}, {'Arbor Hole Type': 'Unthreaded'}, {'Abrasive Material': 'Ceramic'}, {'Abrasive Grade': 'Extra Coarse'}, {'Grit': '36'}, {'Backing Material': 'Fiber'}, {'Coating Coverage': 'Closed'}, {'Maximum Operating Speed': '12,000 RPM'}, {'Resistance Properties': 'Tear'}, {'Color': 'Maroon'}, {'UNSPSC': '31191506'}, {'Country of Origin': 'USA (subject to change)'}]\n"
     ]
    }
   ],
   "source": [
    "attr_name = [th.text.strip() for th in driver.find_elements(By.CSS_SELECTOR, \"dl[data-testid='product-techs'] dt\")]\n",
    "attr_value = [td.text.strip() for td in driver.find_elements(By.CSS_SELECTOR, \"dl[data-testid='product-techs'] dd\")]\n",
    "specs = [{name: value} for name, value in zip(attr_name, attr_value)]\n",
    "print(specs)"
   ]
  },
  {
   "cell_type": "code",
   "execution_count": null,
   "id": "5556a96e-6f25-49cc-afce-bcec6369bec5",
   "metadata": {},
   "outputs": [],
   "source": []
  }
 ],
 "metadata": {
  "kernelspec": {
   "display_name": "Python 3 (ipykernel)",
   "language": "python",
   "name": "python3"
  },
  "language_info": {
   "codemirror_mode": {
    "name": "ipython",
    "version": 3
   },
   "file_extension": ".py",
   "mimetype": "text/x-python",
   "name": "python",
   "nbconvert_exporter": "python",
   "pygments_lexer": "ipython3",
   "version": "3.12.4"
  }
 },
 "nbformat": 4,
 "nbformat_minor": 5
}
