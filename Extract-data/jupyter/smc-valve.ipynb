{
 "cells": [
  {
   "cell_type": "code",
   "execution_count": 1,
   "id": "515a23be-0e68-46b8-aae7-17241daea541",
   "metadata": {},
   "outputs": [],
   "source": [
    "import time\n",
    "import pandas as pd\n",
    "from selenium import webdriver\n",
    "import undetected_chromedriver as uc\n",
    "from selenium.webdriver.chrome.options import Options\n",
    "from selenium .webdriver.common.by import By\n",
    "from itertools import zip_longest\n",
    "headers = {\n",
    "    \"User-Agent\": \"Mozilla/5.0 (Windows NT 10.0; Win64; x64) AppleWebKit/537.36 (KHTML, like Gecko) Chrome/122.0.0.0 Safari/537.36\"}\n",
    "\n",
    "chrome_options = Options()\n",
    "chrome_options.add_argument(\"--no-sandbox\")\n",
    "# chrome_options.add_argument('--headless')\n",
    "chrome_options.add_argument(f'user-agent={headers[\"User-Agent\"]}')\n",
    "driver = webdriver.Chrome(options=chrome_options)\n",
    "driver.maximize_window()\n",
    "url = 'https://www.allvalves.co.uk/actuator-valves/knife-gate-valve-bi-directional-pneumatic-actuated-tecofi'\n",
    "driver.get(url)\n",
    "time.sleep(5)"
   ]
  },
  {
   "cell_type": "code",
   "execution_count": 2,
   "id": "4d284a08-65d5-485d-b805-0b651d1034e6",
   "metadata": {},
   "outputs": [
    {
     "name": "stdout",
     "output_type": "stream",
     "text": [
      "ddd\n"
     ]
    }
   ],
   "source": [
    "print('ddd')\n",
    "final_data = []"
   ]
  },
  {
   "cell_type": "code",
   "execution_count": 3,
   "id": "e41e94f5-0b99-4e64-9e54-5959a0220ab5",
   "metadata": {},
   "outputs": [
    {
     "name": "stdout",
     "output_type": "stream",
     "text": [
      "['GG25']\n"
     ]
    }
   ],
   "source": [
    "# Collect data for each product variation\n",
    "image_list = []\n",
    "mpn_list = []\n",
    "number_list = []\n",
    "price_list = []\n",
    "discontinued_list = []\n",
    "inner_description_list = []\n",
    "product_variations = driver.find_elements(By.CSS_SELECTOR, \"table#productTable\")\n",
    "for variation in product_variations:    \n",
    "    try:\n",
    "        mpn = variation.find_element(By.CSS_SELECTOR, \".bb.colMaterial\").text.strip()\n",
    "    except:\n",
    "        mpn = 'N/A'\n",
    "    mpn_list.append(mpn)\n",
    "\n",
    "    # try:\n",
    "    #     number = variation.find_element(By.CSS_SELECTOR, \"a.grid-product-code\").text.strip()\n",
    "    # except:\n",
    "    #     number = 'N/A'\n",
    "    # number_list.append(number)\n",
    "    \n",
    "    # try:\n",
    "    #     image = variation.find_element(By.CSS_SELECTOR, \"div.slo-product-image img\").get_attribute('src')\n",
    "    # except:\n",
    "    #     image = 'N/A'\n",
    "    # image_list.append(image)\n",
    "\n",
    "    # try:\n",
    "    #     price = variation.find_element(By.CSS_SELECTOR, \"div.price-info--price-wrapper\").text.strip()\n",
    "    # except:\n",
    "    #     price = 'N/A'\n",
    "    # price_list.append(price)\n",
    "\n",
    "    # try:\n",
    "    #     discontinued = variation.find_element(By.CSS_SELECTOR, \".items-baseline span\").text.strip()\n",
    "    # except:\n",
    "    #     discontinued = 'N/A'\n",
    "    # discontinued_list.append(discontinued)\n",
    "\n",
    "    # try:\n",
    "    #     inner_description = variation.find_element(By.CSS_SELECTOR, \"p.mt-sm.text-sm\").text.strip()\n",
    "    # except:\n",
    "    #     inner_description = 'N/A'\n",
    "    # inner_description_list.append(inner_description)\n",
    "print(mpn_list)\n"
   ]
  },
  {
   "cell_type": "code",
   "execution_count": null,
   "id": "76c11747-4cba-44fb-8a47-dff5163389a5",
   "metadata": {},
   "outputs": [],
   "source": []
  }
 ],
 "metadata": {
  "kernelspec": {
   "display_name": "Python 3 (ipykernel)",
   "language": "python",
   "name": "python3"
  },
  "language_info": {
   "codemirror_mode": {
    "name": "ipython",
    "version": 3
   },
   "file_extension": ".py",
   "mimetype": "text/x-python",
   "name": "python",
   "nbconvert_exporter": "python",
   "pygments_lexer": "ipython3",
   "version": "3.12.4"
  }
 },
 "nbformat": 4,
 "nbformat_minor": 5
}
