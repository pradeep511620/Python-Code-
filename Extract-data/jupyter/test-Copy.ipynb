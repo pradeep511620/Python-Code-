{
 "cells": [
  {
   "cell_type": "code",
   "execution_count": null,
   "id": "515a23be-0e68-46b8-aae7-17241daea541",
   "metadata": {},
   "outputs": [],
   "source": [
    "import time\n",
    "import pandas as pd\n",
    "from selenium import webdriver\n",
    "import undetected_chromedriver as uc\n",
    "from selenium.webdriver.chrome.options import Options\n",
    "from selenium .webdriver.common.by import By\n",
    "headers = {\n",
    "    \"User-Agent\": \"Mozilla/5.0 (Windows NT 10.0; Win64; x64) AppleWebKit/537.36 (KHTML, like Gecko) Chrome/122.0.0.0 Safari/537.36\"}\n",
    "\n",
    "chrome_options = Options()\n",
    "chrome_options.add_argument(\"--no-sandbox\")\n",
    "# chrome_options.add_argument('--headless')\n",
    "chrome_options.add_argument(f'user-agent={headers[\"User-Agent\"]}')\n",
    "driver = webdriver.Chrome(options=chrome_options)\n",
    "driver.maximize_window()\n",
    "url = 'https://www.regalrexnord.com/products/blowers/centrifugal-blowers/rectangular-outlet-permanent-split-capacitor-centrifugal-blower-115-230-volts-flange-no-a1200'\n",
    "driver.get(url)\n",
    "time.sleep(5)"
   ]
  },
  {
   "cell_type": "code",
   "execution_count": 80,
   "id": "ccdc2cc3-2149-4b21-82e7-9bb889f9dd6e",
   "metadata": {},
   "outputs": [
    {
     "ename": "NameError",
     "evalue": "name 'self' is not defined",
     "output_type": "error",
     "traceback": [
      "\u001b[1;31m---------------------------------------------------------------------------\u001b[0m",
      "\u001b[1;31mNameError\u001b[0m                                 Traceback (most recent call last)",
      "Cell \u001b[1;32mIn[80], line 1\u001b[0m\n\u001b[1;32m----> 1\u001b[0m some_data \u001b[38;5;241m=\u001b[39m \u001b[38;5;28;43mself\u001b[39;49m\u001b[38;5;241m.\u001b[39mpk\u001b[38;5;241m.\u001b[39mselect(\u001b[38;5;124m\"\u001b[39m\u001b[38;5;124m.page-subtitle .param-row\u001b[39m\u001b[38;5;124m\"\u001b[39m)\n\u001b[0;32m      2\u001b[0m \u001b[38;5;28;01mfor\u001b[39;00m some_number \u001b[38;5;129;01min\u001b[39;00m some_data:\n\u001b[0;32m      3\u001b[0m     \u001b[38;5;28;01mif\u001b[39;00m \u001b[38;5;124m'\u001b[39m\u001b[38;5;124mPart #\u001b[39m\u001b[38;5;124m'\u001b[39m \u001b[38;5;129;01min\u001b[39;00m some_number\u001b[38;5;241m.\u001b[39mtext\u001b[38;5;241m.\u001b[39mstrip():\n",
      "\u001b[1;31mNameError\u001b[0m: name 'self' is not defined"
     ]
    }
   ],
   "source": [
    "some_data = self.pk.select(\".page-subtitle .param-row\")\n",
    "for some_number in some_data:\n",
    "    if 'Part #' in some_number.text.strip():\n",
    "        part_number = some_number.text.strip().replace('Part #:', '')\n",
    "        mpns = part_number\n",
    "\n",
    "    elif 'Catalog #' in some_number.text.strip():\n",
    "        catalog_number = some_number.text.strip().replace('Catalog #:', '')\n",
    "\n",
    "    elif 'Model #' in some_number.text.strip():\n",
    "        model_number = some_number.text.strip().replace('Model #:', '')\n",
    "    else:\n",
    "        print('Not found any number')"
   ]
  },
  {
   "cell_type": "code",
   "execution_count": null,
   "id": "0b7a234c-0acc-4247-bc46-c5fa90cdd0d9",
   "metadata": {},
   "outputs": [],
   "source": []
  }
 ],
 "metadata": {
  "kernelspec": {
   "display_name": "Python 3 (ipykernel)",
   "language": "python",
   "name": "python3"
  },
  "language_info": {
   "codemirror_mode": {
    "name": "ipython",
    "version": 3
   },
   "file_extension": ".py",
   "mimetype": "text/x-python",
   "name": "python",
   "nbconvert_exporter": "python",
   "pygments_lexer": "ipython3",
   "version": "3.12.4"
  }
 },
 "nbformat": 4,
 "nbformat_minor": 5
}
