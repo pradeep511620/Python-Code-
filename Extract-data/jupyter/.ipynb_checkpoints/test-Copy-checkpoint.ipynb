{
 "cells": [
  {
   "cell_type": "code",
   "execution_count": 1,
   "id": "515a23be-0e68-46b8-aae7-17241daea541",
   "metadata": {},
   "outputs": [],
   "source": [
    "import time\n",
    "import pandas as pd\n",
    "from selenium import webdriver\n",
    "import undetected_chromedriver as uc\n",
    "from selenium.webdriver.chrome.options import Options\n",
    "from selenium .webdriver.common.by import By\n",
    "headers = {\n",
    "    \"User-Agent\": \"Mozilla/5.0 (Windows NT 10.0; Win64; x64) AppleWebKit/537.36 (KHTML, like Gecko) Chrome/122.0.0.0 Safari/537.36\"}\n",
    "\n",
    "chrome_options = Options()\n",
    "chrome_options.add_argument(\"--no-sandbox\")\n",
    "# chrome_options.add_argument('--headless')\n",
    "chrome_options.add_argument(f'user-agent={headers[\"User-Agent\"]}')\n",
    "driver = webdriver.Chrome(options=chrome_options)\n",
    "driver.maximize_window()\n",
    "# url = 'https://www.3m.com/3M/en_US/p/d/b49000219/'\n",
    "url = 'https://www.3m.com/3M/en_US/p/d/b40065653/'\n",
    "driver.get(url)\n",
    "time.sleep(5)"
   ]
  },
  {
   "cell_type": "code",
   "execution_count": 2,
   "id": "5e959d70-757e-4876-829e-7e9701b48afe",
   "metadata": {},
   "outputs": [
    {
     "name": "stdout",
     "output_type": "stream",
     "text": [
      "United States## All 3M Products## Tapes## Foam Tapes## VHB Tapes## 3M™ VHB™ Tape 4947\n",
      "3M™ VHB™ Tape 4947\n",
      "[{'src': 'https://multimedia.3m.com/mws/media/2351710J/a-group-of-3m-vhb-tapes-with-film-liner.jpg?width=506', 'alt': 'A group of 3M™ VHB™ Tapes with Film Liner '}, {'src': 'https://multimedia.3m.com/mws/media/2351710J/a-group-of-3m-vhb-tapes-with-film-liner.jpg', 'alt': 'A group of 3M™ VHB™ Tapes with Film Liner '}, {'src': 'http://multimedia.3m.com/mws/media360/2120034/7000048729_400_OP_01_01.jpg', 'alt': '3M™ VHB™ Tape 4979, Black, 1/2 in x 36 yd, 62 mil'}, {'src': 'https://multimedia.3m.com/mws/media/2394717J/3m-vhb-tape-4947f-is-a-double-sided-tape-comprised-of-a-multi-purpose-acrylic-adhesive-with-a-confo.jpg', 'alt': '3M™ VHB™ Tape 4947F is a double-sided tape comprised of a multi-purpose acrylic adhesive with a conformable, foam core backed on a 5 mil red printed polyethylene film liner, delivering a total thickness of 45 mil (1.1 mm) when applied. This tape provides an excellent balance of strength, conformability, and adhesion to high and medium surface energy materials, making it a smooth, seamless alternative to rivets, welds, and screws. These unique attributes equip 3M™ VHB™ Tape 4947F to take on many bonding and sealing applications, including attaching metal panels to frames and stiffener attachment. Discover new ways to design thanks to the versatility, viscoelasticity, and powerful bonding potential of 3M™ VHB™ Tape 4947F.'}, {'src': 'https://multimedia.3m.com/mws/media/2392846J/dream-design-deliver-with-3m-vhb-tape-4991-it-is-a-gray-0-090-in-2-3-mm-multi-purpose-acryli.jpg', 'alt': 'Dream, Design, Deliver with 3M™ VHB™ Tape 4991. It is a gray, 0.090 in (2.3 mm), multi-purpose acrylic adhesive with a conformable, foam core. It can replace rivets, welds and screws. The fast and easy to use permanent bonding method provides high strength and long-term durability. It offers design flexibility with its viscoelasticity and powerful ability to bond to a variety of surfaces.'}]\n",
      "Highlights ['FAST AND EASY-TO-USE: A permanent bonding method that provides immediate handling strength; no need to fixture or wait for a cure', 'SMOOTH AND SEAMLESS: With a thickness of 45 mil (1.1 mm), this tape is designed as an alternative to mechanical fasteners, such as rivets, welds, and screws, or liquid adhesives', 'BUILT TO PERFORM: Delivers excellent shear strength, conformability, and surface adhesion thanks to an acrylic foam core and multi-purpose adhesive', 'DURABLE: Offers excellent outdoor durability and performance, resisting both high and low temperatures, as well as moisture', 'MULTI-SURFACE: Intended to adhere to a variety of High Surface Energy (HSE) and Medium Surface Energy (MSE) substrates; these may include aluminum, stainless steel, galvanized steel, acrylic, polycarbonate, and ABS', 'A VERSATILE OPTION: Commonly used in applications across a variety of markets, such as transportation, appliance, electronics, construction, sign and display, and general industrial', 'CERTIFIED: UL GREENGUARD™ and UL GREENGUARD™ Gold Certified; helps contribute to LEED® credits', 'DO MORE: Allows for the use of thinner, lighter-weight, and dissimilar materials when compared to rivets and welds', 'EXCELLENT BONDING AND SEALING: Features closed-cell acrylic chemistry, which is proven to withstand extreme environments']\n",
      "feature [\"3M™ VHB™ Tape 4947F is a double-sided tape comprised of a multi-purpose acrylic adhesive with a conformable, foam core backed on a 5 mil red printed polyethylene film liner, delivering a total thickness of 45 mil (1.1 mm) when applied. This tape provides an excellent balance of strength, conformability, and adhesion to high and medium surface energy materials, making it a smooth, seamless alternative to rivets, welds, and screws. These unique attributes equip 3M™ VHB™ Tape 4947F to take on many bonding and sealing applications, including attaching metal panels to frames and stiffener attachment. Discover new ways to design thanks to the versatility, viscoelasticity, and powerful bonding potential of 3M™ VHB™ Tape 4947F.\\nConvenience Meets Extreme Bonding Power\\nOur 3M™ VHB™ Tape consists of a durable acrylic adhesive with viscoelastic properties. This provides an extraordinarily strong double sided foam tape that adheres to a broad range of substrates, including aluminum, stainless steel, galvanized steel, composites, plastics, acrylic, polycarbonate, ABS and painted or sealed wood and concrete. Our bonding tapes provide excellent shear strength, conformability, surface adhesion and temperature resistance. They are commonly used in applications across a variety of markets including transportation, appliance, electronics, construction, sign and display and general industrial. Reliably bonds a variety of materials with strength and speed for permanent applications.\\n\\nRecommended Applications\\nDecorative material and trim\\nNameplates and logos\\nElectronic displays\\nPanel to frame\\nStiffener to panel\\nDream, Design, Deliver with the 4941 Family of 3M™ VHB™ Tapes\\nThe 4941 family of 3M™ VHB™ Tapes utilizes multi-purpose acrylic adhesive on both sides of a conformable, foam core. The combination of strength, conformability and adhesion makes this family one of the most capable and well-rounded 3M™ VHB™ Tapes. It is specifically designed for good adhesion to metals, glass and other medium to high surface energy materials. Applications for this tape include stiffener bonding, sealing polycarbonate lens over LCD, windows to painted control panels and mounting vinyl wiring ducts and conduit channels.\\n\\n\\n3M™ VHB™ Tape 4947 is effective at bonding and sealing polycarbonate lens over LCD\\nAn Unconventional Foam Tape\\nWe invented 3M™ VHB™ Tapes in 1980 as the first of their kind. These unique tapes combine conformability with a strong, permanent bond. The result is a family of extraordinarily strong tapes that adhere to a broad range of substrates. 3M™ VHB™ Tape is a proven alternative to screws, rivets, welds and other forms of mechanical fasteners. Skyscrapers, cell phones, electronic highway signs, refrigerators, architectural windows and more all rely on this specialty bonding tape for one or more steps in the assembly, mounting, fastening and sealing process. This trusted and reliable tape offers a consistent bond, outstanding durability and excellent solvent and moisture resistance. 3M stands by all of its products and is there to provide you with design guidance and technical support when you need it.\\n\\nProven Reliability from 3M™ VHB™ Tapes\\n3M™ VHB™ Tape offers a durable bond in a way that mechanical fasteners can't. This tape enhances the appearance of finished goods by eliminating rivets and screws while providing immediate handling strength. In most cases, fastening with 3M™ VHB™ Tape is a quicker process than drilling, fastening, or using liquid adhesive. Our versatile line of tapes can be used indoors or outdoors in a variety of applications, including window, door and sign assembly, electronics, construction and countless other industrial applications. Chemically resistant as well as UV and temperature stable, 3M™ VHB™ Tape can withstand the heat of Dubai to the cold of Canada. The unique acrylic chemistry is extremely durable and resistant to change over time, making this a long-lasting and powerful tape you can trust.\\n\\nBringing Better Ideas to the Surface through Science and Innovation\\nIn our 3M Industrial Adhesives and Tapes Division, we apply the science of adhesion to deliver innovative solutions that improve the design and manufacturing processes of companies around the world. In the end, our technologies help customers like you deliver competitive products to the market faster and more efficiently.\"]\n"
     ]
    }
   ],
   "source": [
    "bread = [l3.text.strip() for l3 in driver.find_elements(By.CSS_SELECTOR, \"ol.MMM--breadcrumbs-list li [itemprop='name']\")]\n",
    "l3_name = '## '.join(bread)\n",
    "print(l3_name)\n",
    "\n",
    "product_title = driver.find_element(By.CSS_SELECTOR, \"h1.sps2-pdp_header--name\").text.strip()\n",
    "print(product_title)\n",
    "\n",
    "images = [{'src': img.get_attribute('src'), 'alt': img.get_attribute('alt')} for img in driver.find_elements(By.CSS_SELECTOR, \"div.sps2-pdp_gallery--box img\")]\n",
    "print(images)\n",
    "\n",
    "Highlights = [high.text.strip() for high in driver.find_elements(By.CSS_SELECTOR, \"ul.sps2-pdp_details--highlights_list li\")]\n",
    "print('Highlights', Highlights)\n",
    "\n",
    "feature = [fea.text.strip() for fea in driver.find_elements(By.CSS_SELECTOR, \"div.sps2-pdp_details--upper_details\")]\n",
    "print('feature', feature)\n",
    "\n",
    "rows = driver.find_elements(By.CSS_SELECTOR, \"table.mds-dataTable tbody tr\")\n",
    "table_dict = []\n",
    "for row in rows:\n",
    "    tab = [cell.text.strip() for cell in row.find_elements(By.CSS_SELECTOR, \"td\")]\n",
    "    if len(tab) == 2:\n",
    "        key, value = tab\n",
    "        table_dict.append({key: value})\n",
    "# print(\"Table Data:\", table_dict)"
   ]
  },
  {
   "cell_type": "code",
   "execution_count": 11,
   "id": "7e8af6d7-b0ab-4e1e-b395-93b0cd9db0e0",
   "metadata": {},
   "outputs": [
    {
     "name": "stdout",
     "output_type": "stream",
     "text": [
      "data save into csv\n"
     ]
    }
   ],
   "source": [
    "from itertools import zip_longest\n",
    "from selenium.webdriver.common.by import By\n",
    "hrefs_list = []\n",
    "imgs_list = []\n",
    "id_3m = []\n",
    "upc = []\n",
    "number = []\n",
    "tr_values = []\n",
    "\n",
    "\n",
    "rows = driver.find_elements(By.CSS_SELECTOR, \"tbody.mds-dataTable_body.body tr\")\n",
    "for row in rows:\n",
    "    # Clean and split the text in the row\n",
    "    row_text = row.text.strip().replace(\"\\n\", \">>\").replace(\"3M ID>>\", \"3M ID \").replace(\"UPC>>\", \"UPC \").replace(\n",
    "        \"3M Product Number>>\", \"3M Product Number \").replace(\"Part Number\", \"\").split(\">>\")\n",
    "    # print(row_text)\n",
    "    #-----------------------------------------\n",
    "    # Extract column text and clean it\n",
    "    columns = row.find_elements(By.TAG_NAME, 'td')\n",
    "    column_texts = [col.text.strip() for col in columns]\n",
    "    \n",
    "    # Combine and format the text\n",
    "    tr_value = '>>'.join(column_texts).split('>>')[1:]\n",
    "    tr_value_row = '>>>>'.join(tr_value)\n",
    "    row_list = tr_value_row.split('>>>>')\n",
    "    # tr_values.append(row_list) \n",
    "    # print(row_list)\n",
    "\n",
    "\n",
    "    \n",
    "    # Initialize temporary variables to store data for this row\n",
    "    temp_id_3m = None\n",
    "    temp_upc = None\n",
    "    temp_number = None\n",
    "    temp_hrefs = []\n",
    "    temp_img = []\n",
    "    # Extract hrefs from the row\n",
    "    hrefs = [link.get_attribute(\"href\") for link in row.find_elements(By.CSS_SELECTOR, \"div.sps2-pdp_product-options--name_ids a.mds-link.mds-link_primary\")]\n",
    "    temp_hrefs.extend(hrefs)\n",
    "    image_tag = [img.get_attribute('src') for img in row.find_elements(By.CSS_SELECTOR, \"div.sps2-pdp_product-options--name_ids_first-row-img-container img\")]\n",
    "    temp_img.extend(image_tag)\n",
    "    # Iterate over the split text to extract the relevant values\n",
    "    for text in row_text:\n",
    "        # print(text)\n",
    "        if \"3M ID\" in text:\n",
    "            temp_id_3m = text.strip()\n",
    "        elif \"UPC\" in text:\n",
    "            temp_upc = text.strip()\n",
    "        elif \"Number\" in text:\n",
    "            temp_number = text.strip()\n",
    "\n",
    "    # Append the collected data to the respective lists\n",
    "    id_3m.append(temp_id_3m)\n",
    "    upc.append(temp_upc)\n",
    "    number.append(temp_number)\n",
    "    hrefs_list.append(temp_hrefs)\n",
    "    imgs_list.append(temp_img)\n",
    "    tr_values.append(tr_value)\n",
    "    hrefs_str = ', '.join(hrefs) if hrefs else 'None'\n",
    "    # print(temp_img)\n",
    "\n",
    "    # Prepare data for DataFrame\n",
    "    data_save = {\n",
    "        'l3_name': l3_name,\n",
    "        'product_title': product_title,\n",
    "        'images': str(images),\n",
    "        'Highlights': str(Highlights),\n",
    "        'feature': str(feature),\n",
    "        'table_dict': str(table_dict),\n",
    "        'Image_2':[', '.join(imgs) if imgs else 'None' for imgs in imgs_list],\n",
    "        'hrefs': [', '.join(hrefs) if hrefs else 'None' for hrefs in hrefs_list],\n",
    "        '3M ID': id_3m,\n",
    "        'UPC': upc,\n",
    "        'Product Number': number,\n",
    "        'tr_value_row': [\" ' , '\".join(row) for row in tr_values]\n",
    "    }\n",
    "\n",
    "\n",
    "df = pd.DataFrame(data_save)\n",
    "# Save DataFrame to CSV\n",
    "df.to_csv('3m_data.csv', index=False)\n",
    "print('data save into csv')\n",
    "# for hrefs, id_3m_value, upc_value, number_value, tr_value in zip_longest(hrefs_list, id_3m, upc, number, tr_values, fillvalue='None'):\n",
    "#     print(f\"{hrefs_str}::: {id_3m_value} ::: {upc_value} ::: {number_value} ::: {tr_value}\")\n"
   ]
  },
  {
   "cell_type": "code",
   "execution_count": 5,
   "id": "731883db-e669-47d2-b958-85f64dbc7856",
   "metadata": {},
   "outputs": [
    {
     "name": "stdout",
     "output_type": "stream",
     "text": [
      "[None, None, None, None, None, None, None, None, None, None, None, None, None, None, None, None, None, None, None, None, None, None, None, None, None, None, None, None, None, None, None, None, None, None, None, None, None, None, None, None, None, None, None, None, None, None, None, None, None, None, None, None, None, None, None, None, None, None, None, None, None, None, None, None, None, None, None, None, None, None, None, None, None, None, None, None, None, None, None, None, None, None, None, None, None, None, None, None, None, None, None, None, None, None, None, None, None, None, None, None, None, None, None, None, None, None, None, None, None, None, None, None, None, None, None, None, None, None]\n"
     ]
    }
   ],
   "source": [
    "print(number)"
   ]
  },
  {
   "cell_type": "code",
   "execution_count": 12,
   "id": "b248ae81-8a6a-4acf-9295-5dcba48259a2",
   "metadata": {},
   "outputs": [
    {
     "name": "stdout",
     "output_type": "stream",
     "text": [
      "datasheet ['https://multimedia.3m.com/mws/media/2366531O/3m-vhb-tape-4947f.pdf?&fn=3M-VHB-Tape-4947F_R1.pdf']\n"
     ]
    }
   ],
   "source": [
    "try:\n",
    "    datasheet = [pdf.get_attribute('href') for pdf in driver.find_elements(By.CSS_SELECTOR, \"a.sps2-pdp_pSelector--dataSheets-mb-16\")]\n",
    "    if not datasheet:\n",
    "        datasheet = [pdf.get_attribute('href') for pdf in driver.find_elements(By.CSS_SELECTOR, \"div.mds-prodBar_item--link\")]\n",
    "    print('datasheet', datasheet)\n",
    "except (NoSuchElementException, AttributeError, TypeError, ValueError, IndexError, Exception) as e:\n",
    "    datasheet = []\n",
    "    print(f\"Error{e} {datasheet}\")\n",
    "    "
   ]
  },
  {
   "cell_type": "code",
   "execution_count": null,
   "id": "fad95013-c70f-4f0c-86a0-db265f28e219",
   "metadata": {},
   "outputs": [],
   "source": []
  },
  {
   "cell_type": "code",
   "execution_count": null,
   "id": "ccdc2cc3-2149-4b21-82e7-9bb889f9dd6e",
   "metadata": {},
   "outputs": [],
   "source": []
  }
 ],
 "metadata": {
  "kernelspec": {
   "display_name": "Python 3 (ipykernel)",
   "language": "python",
   "name": "python3"
  },
  "language_info": {
   "codemirror_mode": {
    "name": "ipython",
    "version": 3
   },
   "file_extension": ".py",
   "mimetype": "text/x-python",
   "name": "python",
   "nbconvert_exporter": "python",
   "pygments_lexer": "ipython3",
   "version": "3.12.4"
  }
 },
 "nbformat": 4,
 "nbformat_minor": 5
}
