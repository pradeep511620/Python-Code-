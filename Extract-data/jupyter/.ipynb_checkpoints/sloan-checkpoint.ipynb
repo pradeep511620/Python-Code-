{
 "cells": [
  {
   "cell_type": "code",
   "execution_count": 157,
   "id": "515a23be-0e68-46b8-aae7-17241daea541",
   "metadata": {},
   "outputs": [],
   "source": [
    "import time\n",
    "import pandas as pd\n",
    "from selenium import webdriver\n",
    "import undetected_chromedriver as uc\n",
    "from selenium.webdriver.chrome.options import Options\n",
    "from selenium .webdriver.common.by import By\n",
    "from itertools import zip_longest\n",
    "headers = {\n",
    "    \"User-Agent\": \"Mozilla/5.0 (Windows NT 10.0; Win64; x64) AppleWebKit/537.36 (KHTML, like Gecko) Chrome/122.0.0.0 Safari/537.36\"}\n",
    "\n",
    "chrome_options = Options()\n",
    "chrome_options.add_argument(\"--no-sandbox\")\n",
    "# chrome_options.add_argument('--headless')\n",
    "chrome_options.add_argument(f'user-agent={headers[\"User-Agent\"]}')\n",
    "driver = webdriver.Chrome(options=chrome_options)\n",
    "driver.maximize_window()\n",
    "# url = 'https://www.3m.com/3M/en_US/p/d/v000060650/'\n",
    "\n",
    "url = 'https://www.sloan.com/commercial-bathroom-products/faucets/basys/efx-100'\n",
    "driver.get(url)\n",
    "time.sleep(5)"
   ]
  },
  {
   "cell_type": "code",
   "execution_count": 208,
   "id": "4d284a08-65d5-485d-b805-0b651d1034e6",
   "metadata": {},
   "outputs": [
    {
     "name": "stdout",
     "output_type": "stream",
     "text": [
      "ddd\n"
     ]
    }
   ],
   "source": [
    "print('ddd')\n",
    "final_data = []"
   ]
  },
  {
   "cell_type": "code",
   "execution_count": 218,
   "id": "7a80212f-e733-49c5-8f4d-77caea4a213b",
   "metadata": {},
   "outputs": [],
   "source": [
    "l3_name = [l3.text.strip() for l3 in driver.find_elements(By.CSS_SELECTOR, \"div#block-sloan-breadcrumbs ol a\")]\n",
    "L3_Name = \"## \".join(l3_name)\n",
    "\n",
    "product_title = driver.find_element(By.CSS_SELECTOR, \"div.slo-product-info .row h1\").text.strip()\n",
    "\n",
    "short = driver.find_element(By.CSS_SELECTOR, \"div.slo-product-info .row .mt-2xs.text-xl p\").text.strip()\n",
    "\n",
    "description_1 = driver.find_elements(By.CSS_SELECTOR, \"div.slo-product-info .row .mt-2xs p\")[-1].text.strip()\n",
    "\n",
    "description_2 = [feature.text.strip() for feature in driver.find_elements(By.CSS_SELECTOR, \"section.product-section.product-features-list ul li\")]\n",
    "\n",
    "image_list = [{\"src\": img1.get_attribute('src') if img1.get_attribute('src') else 'N/A', \"alt\": img1.get_attribute('alt') if img1.get_attribute('alt') else 'N/A'} for img1 in driver.find_elements(By.CSS_SELECTOR, \"div.product-media button img\")]\n",
    "\n",
    "source_of_related = [source.get_attribute('href') for source in driver.find_elements(By.CSS_SELECTOR, 'div.related-products-grid header a')]\n"
   ]
  },
  {
   "cell_type": "code",
   "execution_count": 219,
   "id": "05f5e4ca-1232-4a93-85df-906988b0abe2",
   "metadata": {},
   "outputs": [],
   "source": [
    "data = [url, L3_Name, product_title, description_1, description_2, image_list, source_of_related]"
   ]
  },
  {
   "cell_type": "code",
   "execution_count": 220,
   "id": "b4351cd4-d2bf-498b-96fb-434ce572a3fe",
   "metadata": {},
   "outputs": [],
   "source": [
    "final_data.append(data)\n",
    "df = pd.DataFrame(final_data)\n",
    "# df.to_csv('3m_data_pk.csv', mode='a', index=False)"
   ]
  },
  {
   "cell_type": "code",
   "execution_count": 217,
   "id": "166de115-319c-4d05-8e2a-29461d8f270c",
   "metadata": {},
   "outputs": [],
   "source": [
    "\n",
    "img_list = [img.get_attribute('src') if img.get_attribute('src') else 'N/A' for img in driver.find_elements(By.CSS_SELECTOR, \"#variations ul li.product-variation-item img\")]\n",
    "\n",
    "mpn_list = [link.text.strip() if link.text.strip() else 'N/A' for link in driver.find_elements(By.CSS_SELECTOR, \"#variations ul li.product-variation-item h4\")]\n",
    "\n",
    "number = [num.text.strip() if num.text.strip() else 'N/A' for num in driver.find_elements(By.CSS_SELECTOR, \"#variations ul li.product-variation-item .items-baseline p\")]\n",
    "\n",
    "des_inner = [desc.text.strip() if desc.text.strip() else 'N/A' for desc in driver.find_elements(By.CSS_SELECTOR, \"#variations ul li.product-variation-item p.mt-sm.text-sm\")]\n",
    "\n",
    "Discontinued = [''.join(discontinue.text.strip()) if discontinue.text.strip() else 'N/A' for discontinue in driver.find_elements(By.CSS_SELECTOR, \"#variations ul li.product-variation-item .items-baseline span\")]\n",
    "\n",
    "image_list = [img1.get_attribute('src') if img1.get_attribute('src') else 'N/A'  for img1 in driver.find_elements(By.CSS_SELECTOR, \"div.product-media button img\")]\n",
    "\n",
    "price = [price_div.text.strip() if price_div.text.strip() else 'N/A' for price_div in driver.find_elements(By.CSS_SELECTOR, \"#variations ul li.product-variation-item div.price-info--price-wrapper\")]\n",
    "\n",
    "\n"
   ]
  },
  {
   "cell_type": "code",
   "execution_count": 186,
   "id": "833d85af-c08a-46d9-bf6e-5d87ed291c79",
   "metadata": {},
   "outputs": [],
   "source": [
    "data_save = {\n",
    "    'URL': [url] * len(id_3m),\n",
    "    'l3_name': [l3_name] * len(id_3m),\n",
    "    'product_title': [product_title] * len(id_3m),\n",
    "    'images': [str(images)] * len(id_3m),\n",
    "    'Highlights': [str(Highlights)] * len(id_3m),\n",
    "    'feature': [str(feature)] * len(id_3m),\n",
    "    'table_dict': [str(table_dict)] * len(id_3m),\n",
    "    'Image_2': [', '.join(imgs) if imgs else 'None' for imgs in imgs_list],\n",
    "    'hrefs': [', '.join(hrefs) if hrefs else 'None' for hrefs in hrefs_list],\n",
    "    '3M ID': id_3m,\n",
    "    'UPC': upc,\n",
    "    'Product Number': number,\n",
    "    'tr_value_row': [\" ' , '\".join(row) for row in tr_values]\n",
    "    }\n",
    "print(data_save)\n",
    "# df = pd.DataFrame(data_save)"
   ]
  },
  {
   "cell_type": "code",
   "execution_count": 279,
   "id": "6286a559-65f8-4ea6-82cd-6fd95918ce5c",
   "metadata": {},
   "outputs": [
    {
     "name": "stdout",
     "output_type": "stream",
     "text": [
      "Home## Products## Faucets## BASYS®\n"
     ]
    }
   ],
   "source": [
    "import pandas as pd\n",
    "\n",
    "# Extracting the data from the webpage\n",
    "l3_name = [l3.text.strip() for l3 in driver.find_elements(By.CSS_SELECTOR, \"div#block-sloan-breadcrumbs ol a\")]\n",
    "L3_Name = \"## \".join(l3_name)\n",
    "print(L3_Name)\n",
    "\n",
    "product_title = driver.find_element(By.CSS_SELECTOR, \"div.slo-product-info .row h1\").text.strip()\n",
    "\n",
    "short_description = driver.find_element(By.CSS_SELECTOR, \"div.slo-product-info .row .mt-2xs.text-xl p\").text.strip()\n",
    "\n",
    "description_1 = driver.find_elements(By.CSS_SELECTOR, \"div.slo-product-info .row .mt-2xs p\")[-1].text.strip()\n",
    "\n",
    "\n",
    "image_list = [{\"src\": img1.get_attribute('src') if img1.get_attribute('src') else 'N/A', \"alt\": img1.get_attribute('alt') if img1.get_attribute('alt') else 'N/A'} for img1 in driver.find_elements(By.CSS_SELECTOR, \"div.product-media button img\")]\n",
    "\n",
    "source_of_related = [source.get_attribute('href') for source in driver.find_elements(By.CSS_SELECTOR, 'div.related-products-grid header a')]\n",
    "\n",
    "img_list = [img.get_attribute('src') if img.get_attribute('src') else 'N/A' for img in driver.find_elements(By.CSS_SELECTOR, \"#variations ul li.product-variation-item img\")]\n",
    "\n",
    "\n",
    "\n",
    "\n",
    "\n",
    "image_list = [img1.get_attribute('src') if img1.get_attribute('src') else 'N/A' for img1 in driver.find_elements(By.CSS_SELECTOR, \"div.product-media button img\")]\n",
    "\n",
    "\n"
   ]
  },
  {
   "cell_type": "code",
   "execution_count": null,
   "id": "9e33af51-56c5-4338-981c-f68c2f363b14",
   "metadata": {},
   "outputs": [],
   "source": []
  },
  {
   "cell_type": "code",
   "execution_count": 284,
   "id": "e41e94f5-0b99-4e64-9e54-5959a0220ab5",
   "metadata": {},
   "outputs": [
    {
     "ename": "ValueError",
     "evalue": "All arrays must be of the same length",
     "output_type": "error",
     "traceback": [
      "\u001b[1;31m---------------------------------------------------------------------------\u001b[0m",
      "\u001b[1;31mValueError\u001b[0m                                Traceback (most recent call last)",
      "Cell \u001b[1;32mIn[284], line 66\u001b[0m\n\u001b[0;32m     51\u001b[0m data_save \u001b[38;5;241m=\u001b[39m {\n\u001b[0;32m     52\u001b[0m     \u001b[38;5;124m'\u001b[39m\u001b[38;5;124mURL\u001b[39m\u001b[38;5;124m'\u001b[39m: url,\n\u001b[0;32m     53\u001b[0m     \u001b[38;5;124m'\u001b[39m\u001b[38;5;124ml3_name\u001b[39m\u001b[38;5;124m'\u001b[39m: [L3_Name]\u001b[38;5;241m*\u001b[39m \u001b[38;5;28mlen\u001b[39m(image_list),\n\u001b[1;32m   (...)\u001b[0m\n\u001b[0;32m     62\u001b[0m     \n\u001b[0;32m     63\u001b[0m }\n\u001b[0;32m     65\u001b[0m \u001b[38;5;66;03m# Save data to DataFrame\u001b[39;00m\n\u001b[1;32m---> 66\u001b[0m df \u001b[38;5;241m=\u001b[39m \u001b[43mpd\u001b[49m\u001b[38;5;241;43m.\u001b[39;49m\u001b[43mDataFrame\u001b[49m\u001b[43m(\u001b[49m\u001b[43mdata_save\u001b[49m\u001b[43m)\u001b[49m\n\u001b[0;32m     67\u001b[0m df\u001b[38;5;241m.\u001b[39mto_csv(\u001b[38;5;124m'\u001b[39m\u001b[38;5;124mproduct_data.csv\u001b[39m\u001b[38;5;124m'\u001b[39m, index\u001b[38;5;241m=\u001b[39m\u001b[38;5;28;01mFalse\u001b[39;00m)\n\u001b[0;32m     69\u001b[0m \u001b[38;5;28mprint\u001b[39m(\u001b[38;5;124m\"\u001b[39m\u001b[38;5;124mData saved successfully!\u001b[39m\u001b[38;5;124m\"\u001b[39m)\n",
      "File \u001b[1;32mP:\\Web-scrapings\\venv\\Lib\\site-packages\\pandas\\core\\frame.py:778\u001b[0m, in \u001b[0;36mDataFrame.__init__\u001b[1;34m(self, data, index, columns, dtype, copy)\u001b[0m\n\u001b[0;32m    772\u001b[0m     mgr \u001b[38;5;241m=\u001b[39m \u001b[38;5;28mself\u001b[39m\u001b[38;5;241m.\u001b[39m_init_mgr(\n\u001b[0;32m    773\u001b[0m         data, axes\u001b[38;5;241m=\u001b[39m{\u001b[38;5;124m\"\u001b[39m\u001b[38;5;124mindex\u001b[39m\u001b[38;5;124m\"\u001b[39m: index, \u001b[38;5;124m\"\u001b[39m\u001b[38;5;124mcolumns\u001b[39m\u001b[38;5;124m\"\u001b[39m: columns}, dtype\u001b[38;5;241m=\u001b[39mdtype, copy\u001b[38;5;241m=\u001b[39mcopy\n\u001b[0;32m    774\u001b[0m     )\n\u001b[0;32m    776\u001b[0m \u001b[38;5;28;01melif\u001b[39;00m \u001b[38;5;28misinstance\u001b[39m(data, \u001b[38;5;28mdict\u001b[39m):\n\u001b[0;32m    777\u001b[0m     \u001b[38;5;66;03m# GH#38939 de facto copy defaults to False only in non-dict cases\u001b[39;00m\n\u001b[1;32m--> 778\u001b[0m     mgr \u001b[38;5;241m=\u001b[39m \u001b[43mdict_to_mgr\u001b[49m\u001b[43m(\u001b[49m\u001b[43mdata\u001b[49m\u001b[43m,\u001b[49m\u001b[43m \u001b[49m\u001b[43mindex\u001b[49m\u001b[43m,\u001b[49m\u001b[43m \u001b[49m\u001b[43mcolumns\u001b[49m\u001b[43m,\u001b[49m\u001b[43m \u001b[49m\u001b[43mdtype\u001b[49m\u001b[38;5;241;43m=\u001b[39;49m\u001b[43mdtype\u001b[49m\u001b[43m,\u001b[49m\u001b[43m \u001b[49m\u001b[43mcopy\u001b[49m\u001b[38;5;241;43m=\u001b[39;49m\u001b[43mcopy\u001b[49m\u001b[43m,\u001b[49m\u001b[43m \u001b[49m\u001b[43mtyp\u001b[49m\u001b[38;5;241;43m=\u001b[39;49m\u001b[43mmanager\u001b[49m\u001b[43m)\u001b[49m\n\u001b[0;32m    779\u001b[0m \u001b[38;5;28;01melif\u001b[39;00m \u001b[38;5;28misinstance\u001b[39m(data, ma\u001b[38;5;241m.\u001b[39mMaskedArray):\n\u001b[0;32m    780\u001b[0m     \u001b[38;5;28;01mfrom\u001b[39;00m \u001b[38;5;21;01mnumpy\u001b[39;00m\u001b[38;5;21;01m.\u001b[39;00m\u001b[38;5;21;01mma\u001b[39;00m \u001b[38;5;28;01mimport\u001b[39;00m mrecords\n",
      "File \u001b[1;32mP:\\Web-scrapings\\venv\\Lib\\site-packages\\pandas\\core\\internals\\construction.py:503\u001b[0m, in \u001b[0;36mdict_to_mgr\u001b[1;34m(data, index, columns, dtype, typ, copy)\u001b[0m\n\u001b[0;32m    499\u001b[0m     \u001b[38;5;28;01melse\u001b[39;00m:\n\u001b[0;32m    500\u001b[0m         \u001b[38;5;66;03m# dtype check to exclude e.g. range objects, scalars\u001b[39;00m\n\u001b[0;32m    501\u001b[0m         arrays \u001b[38;5;241m=\u001b[39m [x\u001b[38;5;241m.\u001b[39mcopy() \u001b[38;5;28;01mif\u001b[39;00m \u001b[38;5;28mhasattr\u001b[39m(x, \u001b[38;5;124m\"\u001b[39m\u001b[38;5;124mdtype\u001b[39m\u001b[38;5;124m\"\u001b[39m) \u001b[38;5;28;01melse\u001b[39;00m x \u001b[38;5;28;01mfor\u001b[39;00m x \u001b[38;5;129;01min\u001b[39;00m arrays]\n\u001b[1;32m--> 503\u001b[0m \u001b[38;5;28;01mreturn\u001b[39;00m \u001b[43marrays_to_mgr\u001b[49m\u001b[43m(\u001b[49m\u001b[43marrays\u001b[49m\u001b[43m,\u001b[49m\u001b[43m \u001b[49m\u001b[43mcolumns\u001b[49m\u001b[43m,\u001b[49m\u001b[43m \u001b[49m\u001b[43mindex\u001b[49m\u001b[43m,\u001b[49m\u001b[43m \u001b[49m\u001b[43mdtype\u001b[49m\u001b[38;5;241;43m=\u001b[39;49m\u001b[43mdtype\u001b[49m\u001b[43m,\u001b[49m\u001b[43m \u001b[49m\u001b[43mtyp\u001b[49m\u001b[38;5;241;43m=\u001b[39;49m\u001b[43mtyp\u001b[49m\u001b[43m,\u001b[49m\u001b[43m \u001b[49m\u001b[43mconsolidate\u001b[49m\u001b[38;5;241;43m=\u001b[39;49m\u001b[43mcopy\u001b[49m\u001b[43m)\u001b[49m\n",
      "File \u001b[1;32mP:\\Web-scrapings\\venv\\Lib\\site-packages\\pandas\\core\\internals\\construction.py:114\u001b[0m, in \u001b[0;36marrays_to_mgr\u001b[1;34m(arrays, columns, index, dtype, verify_integrity, typ, consolidate)\u001b[0m\n\u001b[0;32m    111\u001b[0m \u001b[38;5;28;01mif\u001b[39;00m verify_integrity:\n\u001b[0;32m    112\u001b[0m     \u001b[38;5;66;03m# figure out the index, if necessary\u001b[39;00m\n\u001b[0;32m    113\u001b[0m     \u001b[38;5;28;01mif\u001b[39;00m index \u001b[38;5;129;01mis\u001b[39;00m \u001b[38;5;28;01mNone\u001b[39;00m:\n\u001b[1;32m--> 114\u001b[0m         index \u001b[38;5;241m=\u001b[39m \u001b[43m_extract_index\u001b[49m\u001b[43m(\u001b[49m\u001b[43marrays\u001b[49m\u001b[43m)\u001b[49m\n\u001b[0;32m    115\u001b[0m     \u001b[38;5;28;01melse\u001b[39;00m:\n\u001b[0;32m    116\u001b[0m         index \u001b[38;5;241m=\u001b[39m ensure_index(index)\n",
      "File \u001b[1;32mP:\\Web-scrapings\\venv\\Lib\\site-packages\\pandas\\core\\internals\\construction.py:677\u001b[0m, in \u001b[0;36m_extract_index\u001b[1;34m(data)\u001b[0m\n\u001b[0;32m    675\u001b[0m lengths \u001b[38;5;241m=\u001b[39m \u001b[38;5;28mlist\u001b[39m(\u001b[38;5;28mset\u001b[39m(raw_lengths))\n\u001b[0;32m    676\u001b[0m \u001b[38;5;28;01mif\u001b[39;00m \u001b[38;5;28mlen\u001b[39m(lengths) \u001b[38;5;241m>\u001b[39m \u001b[38;5;241m1\u001b[39m:\n\u001b[1;32m--> 677\u001b[0m     \u001b[38;5;28;01mraise\u001b[39;00m \u001b[38;5;167;01mValueError\u001b[39;00m(\u001b[38;5;124m\"\u001b[39m\u001b[38;5;124mAll arrays must be of the same length\u001b[39m\u001b[38;5;124m\"\u001b[39m)\n\u001b[0;32m    679\u001b[0m \u001b[38;5;28;01mif\u001b[39;00m have_dicts:\n\u001b[0;32m    680\u001b[0m     \u001b[38;5;28;01mraise\u001b[39;00m \u001b[38;5;167;01mValueError\u001b[39;00m(\n\u001b[0;32m    681\u001b[0m         \u001b[38;5;124m\"\u001b[39m\u001b[38;5;124mMixing dicts with non-Series may lead to ambiguous ordering.\u001b[39m\u001b[38;5;124m\"\u001b[39m\n\u001b[0;32m    682\u001b[0m     )\n",
      "\u001b[1;31mValueError\u001b[0m: All arrays must be of the same length"
     ]
    }
   ],
   "source": [
    "# Collect data for each product variation\n",
    "image_list = []\n",
    "mpn_list = []\n",
    "number_list = []\n",
    "price_list = []\n",
    "discontinued_list = []\n",
    "inner_description_list = []\n",
    "product_variations = driver.find_elements(By.CSS_SELECTOR, \"#variations ul li.product-variation-item\")\n",
    "for variation in product_variations:\n",
    "    try:\n",
    "        image = variation.find_element(By.CSS_SELECTOR, \"div.slo-product-image img\").get_attribute('src')\n",
    "    except:\n",
    "        image = 'N/A'\n",
    "    image_list.append(image)\n",
    "    \n",
    "    try:\n",
    "        mpn = variation.find_element(By.CSS_SELECTOR, \"h4\").text.strip()\n",
    "    except:\n",
    "        mpn = 'N/A'\n",
    "    mpn_list.append(mpn)\n",
    "\n",
    "    try:\n",
    "        number = variation.find_element(By.CSS_SELECTOR, \".items-baseline p\").text.strip()\n",
    "    except:\n",
    "        number = 'N/A'\n",
    "    number_list.append(number)\n",
    "\n",
    "\n",
    "    try:\n",
    "        price = variation.find_element(By.CSS_SELECTOR, \"div.price-info--price-wrapper\").text.strip()\n",
    "    except:\n",
    "        price = 'N/A'\n",
    "    price_list.append(price)\n",
    "\n",
    "    try:\n",
    "        discontinued = variation.find_element(By.CSS_SELECTOR, \".items-baseline span\").text.strip()\n",
    "    except:\n",
    "        discontinued = 'N/A'\n",
    "    discontinued_list.append(discontinued)\n",
    "\n",
    "    try:\n",
    "        inner_description = variation.find_element(By.CSS_SELECTOR, \"p.mt-sm.text-sm\").text.strip()\n",
    "    except:\n",
    "        inner_description = 'N/A'\n",
    "    inner_description_list.append(inner_description)\n",
    "# print(number_list)\n",
    "\n",
    "\n",
    "\n",
    "# Example data structure to save\n",
    "data_save = {\n",
    "    'URL': url,\n",
    "    'l3_name': [L3_Name]* len(image_list),\n",
    "    'product_title': product_title,\n",
    "    'Images': image_list,\n",
    "    'MPN': mpn_list,\n",
    "    'Number': number_list,\n",
    "    'Price': price_list,\n",
    "    'Discontinued': discontinued_list,\n",
    "    'Inner_description':inner_description_list,\n",
    "    'Description_2': description_2* len(image_list),\n",
    "    \n",
    "}\n",
    "\n",
    "# Save data to DataFrame\n",
    "df = pd.DataFrame(data_save)\n",
    "df.to_csv('product_data.csv', index=False)\n",
    "\n",
    "print(\"Data saved successfully!\")\n"
   ]
  },
  {
   "cell_type": "code",
   "execution_count": null,
   "id": "76c11747-4cba-44fb-8a47-dff5163389a5",
   "metadata": {},
   "outputs": [],
   "source": []
  }
 ],
 "metadata": {
  "kernelspec": {
   "display_name": "Python 3 (ipykernel)",
   "language": "python",
   "name": "python3"
  },
  "language_info": {
   "codemirror_mode": {
    "name": "ipython",
    "version": 3
   },
   "file_extension": ".py",
   "mimetype": "text/x-python",
   "name": "python",
   "nbconvert_exporter": "python",
   "pygments_lexer": "ipython3",
   "version": "3.12.4"
  }
 },
 "nbformat": 4,
 "nbformat_minor": 5
}
