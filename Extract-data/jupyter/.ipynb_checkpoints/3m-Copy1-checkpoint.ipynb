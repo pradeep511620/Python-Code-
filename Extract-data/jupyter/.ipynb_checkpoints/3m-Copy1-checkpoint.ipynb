{
 "cells": [
  {
   "cell_type": "code",
   "execution_count": 24,
   "id": "58095836-f9dd-469e-b3f5-509c13f5d0c3",
   "metadata": {},
   "outputs": [],
   "source": [
    "import time\n",
    "import pandas as pd\n",
    "from selenium import webdriver\n",
    "import undetected_chromedriver as uc\n",
    "from selenium.webdriver.chrome.options import Options\n",
    "from selenium .webdriver.common.by import By\n",
    "headers = {\n",
    "    \"User-Agent\": \"Mozilla/5.0 (Windows NT 10.0; Win64; x64) AppleWebKit/537.36 (KHTML, like Gecko) Chrome/122.0.0.0 Safari/537.36\"}\n",
    "\n",
    "chrome_options = Options()\n",
    "chrome_options.add_argument(\"--no-sandbox\")\n",
    "# chrome_options.add_argument('--headless')\n",
    "chrome_options.add_argument(f'user-agent={headers[\"User-Agent\"]}')\n",
    "driver = webdriver.Chrome(options=chrome_options)\n",
    "driver.maximize_window()\n",
    "url = 'https://www.3m.com/3M/en_US/p/d/v000147063/'\n",
    "\n",
    "# url = 'https://www.3m.com/3M/en_US/p/d/v000146426/'\n",
    "driver.get(url)\n",
    "time.sleep(5)"
   ]
  },
  {
   "cell_type": "code",
   "execution_count": null,
   "id": "f13d0e82-e5a1-477c-b039-cc20107cc6ca",
   "metadata": {},
   "outputs": [],
   "source": []
  },
  {
   "cell_type": "code",
   "execution_count": 33,
   "id": "44cb5f76-bcb3-4b2d-a780-4dd59248ca2a",
   "metadata": {},
   "outputs": [
    {
     "name": "stdout",
     "output_type": "stream",
     "text": [
      "          0 1               2                  3\n",
      "0  rp_07466    rp_ 7000120779  rp_00051131074668\n",
      "Data has been saved to output.csv\n"
     ]
    }
   ],
   "source": [
    "final = []\n",
    "part_number = ''\n",
    "Product_Number = ''\n",
    "id_3m = ''\n",
    "upc_id = ''\n",
    "\n",
    "elements_div = driver.find_elements(By.CSS_SELECTOR, \"ul.sps2-pdp_header--details_container_ids li\")\n",
    "\n",
    "if not elements:\n",
    "    print('No elements found with the given CSS selector')\n",
    "\n",
    "for element in elements_div:\n",
    "    data_div = element.text.strip()\n",
    "    \n",
    "    if 'Part Number' in data_div:\n",
    "        part_number = 'rp_' + data_div.strip().replace('Part Number', '').strip()\n",
    "        \n",
    "    elif \"Product Number\" in data_div:\n",
    "        Product_Number = 'rp_' + data_div.replace('3M Product Number', '')\n",
    "        \n",
    "    elif \"ID\" in data_div:\n",
    "        id_3m = 'rp_' + data_div.replace('3M ID', '')\n",
    "        \n",
    "    elif \"UPC\" in data_div:\n",
    "        upc_id = 'rp_' + data_div.replace('UPC ', '')\n",
    "\n",
    "    else:\n",
    "        print('No matching data found')\n",
    "    data = [part_number, Product_Number, id_3m, upc_id]\n",
    "final.append(data)\n",
    "df = pd.DataFrame(final)\n",
    "print(df)\n",
    "df.to_csv('product_u1.csv', mode='a+',index=False)\n",
    "\n",
    "print(\"Data has been saved to output.csv\")\n"
   ]
  },
  {
   "cell_type": "code",
   "execution_count": null,
   "id": "24514e8e-d4a9-4a82-a9bf-54d6dc6f76ab",
   "metadata": {},
   "outputs": [],
   "source": []
  }
 ],
 "metadata": {
  "kernelspec": {
   "display_name": "Python 3 (ipykernel)",
   "language": "python",
   "name": "python3"
  },
  "language_info": {
   "codemirror_mode": {
    "name": "ipython",
    "version": 3
   },
   "file_extension": ".py",
   "mimetype": "text/x-python",
   "name": "python",
   "nbconvert_exporter": "python",
   "pygments_lexer": "ipython3",
   "version": "3.12.4"
  }
 },
 "nbformat": 4,
 "nbformat_minor": 5
}
