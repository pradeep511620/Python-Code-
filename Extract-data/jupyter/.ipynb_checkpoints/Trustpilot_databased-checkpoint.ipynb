{
 "cells": [
  {
   "cell_type": "code",
   "execution_count": 1,
   "id": "568529e8-2255-4e66-ac8e-5b86916890f2",
   "metadata": {},
   "outputs": [],
   "source": [
    "import time\n",
    "import mysql.connector\n",
    "from datetime import datetime\n",
    "from itertools import zip_longest\n",
    "import pandas as pd\n",
    "from selenium import webdriver\n",
    "from selenium.webdriver.common.by import By\n",
    "login_url = \"https://uk.trustpilot.com/review/raptorsupplies.com?page=2&stars=5\"\n",
    "driver = webdriver.Chrome()\n",
    "driver.get(login_url)\n",
    "time.sleep(5)\n"
   ]
  },
  {
   "cell_type": "markdown",
   "id": "2273a3ef-821f-4b22-97db-a1f38aa0995c",
   "metadata": {},
   "source": [
    "## Review_Name"
   ]
  },
  {
   "cell_type": "code",
   "execution_count": 6,
   "id": "b6b3cc35-f308-49ba-8a12-5648e102f45b",
   "metadata": {},
   "outputs": [
    {
     "name": "stdout",
     "output_type": "stream",
     "text": [
      "['octy mocty', 'Steve', 'atmtechsg atmtechsg', 'Naji', 'Prabhakaran', 'Amirah', 'Szász László', 'Yoshida Tomoyuki', 'Profitsav SS', 'Brock Campbell', 'Joseph, Baik', 'Fabrice', 'Zuzka Chovancova', 'Inez Toegel', 'Joseph A C', 'Amanda', 'kayley', 'SHABEER', 'Cameron', 'Mr Keith Norton']\n"
     ]
    }
   ],
   "source": [
    "Review_Name = [names.text.strip() for names in driver.find_elements(By.CSS_SELECTOR, \"article [data-consumer-name-typography]\")]\n",
    "print(Review_Name)"
   ]
  },
  {
   "cell_type": "markdown",
   "id": "53582075-7c41-4d80-bba6-ed3b984b94b5",
   "metadata": {},
   "source": [
    "## Review_count"
   ]
  },
  {
   "cell_type": "code",
   "execution_count": 9,
   "id": "e9ee2d2b-abc8-4d37-ac29-0916633a8903",
   "metadata": {},
   "outputs": [
    {
     "name": "stdout",
     "output_type": "stream",
     "text": [
      "['7 reviews', '1 review', '1 review', '1 review', '1 review', '1 review', '1 review', '1 review', '1 review', '1 review', '1 review', '7 reviews', '2 reviews', '1 review', '1 review', '3 reviews', '1 review', '1 review', '1 review', '11 reviews']\n"
     ]
    }
   ],
   "source": [
    "Review_count = [count.text.strip() for count in driver.find_elements(By.CSS_SELECTOR,  \"article [data-consumer-reviews-count-typography]\")]\n",
    "print(Review_count)"
   ]
  },
  {
   "cell_type": "markdown",
   "id": "42951be5-c52c-4685-9cdc-97500bfd1ae6",
   "metadata": {},
   "source": [
    "## Review_country"
   ]
  },
  {
   "cell_type": "code",
   "execution_count": 10,
   "id": "49319b9f-9e75-4c17-b918-73044e0b0a70",
   "metadata": {},
   "outputs": [
    {
     "name": "stdout",
     "output_type": "stream",
     "text": [
      "['GB', 'GB', 'SG', 'BH', 'AE', 'MY', 'HU', 'JP', 'MY', 'CA', 'KR', 'FR', 'GB', 'DE', 'SA', 'GB', 'SG', 'SA', 'AU', 'GB']\n"
     ]
    }
   ],
   "source": [
    "Review_country = [countrys.text.strip() for countrys in driver.find_elements(By.CSS_SELECTOR, \"article [data-consumer-country-typography]\")]\n",
    "print(Review_country)"
   ]
  },
  {
   "cell_type": "markdown",
   "id": "da6f69c2-e245-45eb-ae3a-2b57b1541617",
   "metadata": {},
   "source": [
    "## Review_star"
   ]
  },
  {
   "cell_type": "code",
   "execution_count": 12,
   "id": "b0a572ba-b78c-473e-a809-aa0414d679bb",
   "metadata": {},
   "outputs": [
    {
     "name": "stdout",
     "output_type": "stream",
     "text": [
      "['https://cdn.trustpilot.net/brand-assets/4.1.0/stars/stars-5.svg', 'https://cdn.trustpilot.net/brand-assets/4.1.0/stars/stars-5.svg', 'https://cdn.trustpilot.net/brand-assets/4.1.0/stars/stars-5.svg', 'https://cdn.trustpilot.net/brand-assets/4.1.0/stars/stars-5.svg', 'https://cdn.trustpilot.net/brand-assets/4.1.0/stars/stars-5.svg', 'https://cdn.trustpilot.net/brand-assets/4.1.0/stars/stars-5.svg', 'https://cdn.trustpilot.net/brand-assets/4.1.0/stars/stars-5.svg', 'https://cdn.trustpilot.net/brand-assets/4.1.0/stars/stars-5.svg', 'https://cdn.trustpilot.net/brand-assets/4.1.0/stars/stars-5.svg', 'https://cdn.trustpilot.net/brand-assets/4.1.0/stars/stars-5.svg', 'https://cdn.trustpilot.net/brand-assets/4.1.0/stars/stars-5.svg', 'https://cdn.trustpilot.net/brand-assets/4.1.0/stars/stars-5.svg', 'https://cdn.trustpilot.net/brand-assets/4.1.0/stars/stars-5.svg', 'https://cdn.trustpilot.net/brand-assets/4.1.0/stars/stars-5.svg', 'https://cdn.trustpilot.net/brand-assets/4.1.0/stars/stars-5.svg', 'https://cdn.trustpilot.net/brand-assets/4.1.0/stars/stars-5.svg', 'https://cdn.trustpilot.net/brand-assets/4.1.0/stars/stars-5.svg', 'https://cdn.trustpilot.net/brand-assets/4.1.0/stars/stars-5.svg', 'https://cdn.trustpilot.net/brand-assets/4.1.0/stars/stars-5.svg', 'https://cdn.trustpilot.net/brand-assets/4.1.0/stars/stars-5.svg']\n"
     ]
    }
   ],
   "source": [
    "Review_star = [stars.get_attribute('src') for stars in driver.find_elements(By.CSS_SELECTOR, \"article [data-service-review-rating] img\")]\n",
    "print(Review_star)"
   ]
  },
  {
   "cell_type": "markdown",
   "id": "9df9ba8c-d245-4d70-87b6-5d327c6b2280",
   "metadata": {},
   "source": [
    "## Review_time"
   ]
  },
  {
   "cell_type": "code",
   "execution_count": 13,
   "id": "44b05503-505d-48a3-8f78-a61cb3de62e3",
   "metadata": {},
   "outputs": [
    {
     "name": "stdout",
     "output_type": "stream",
     "text": [
      "['14 Sept 2023', '17 May 2022', 'Updated 31 Mar 2023', '16 Sept 2023', '17 Feb 2021', '23 Aug 2022', '29 Oct 2022', '18 May 2022', '22 Nov 2023', '7 Aug 2024', '16 Nov 2022', '11 Feb 2021', '20 May 2023', '9 Nov 2023', '20 Nov 2020', '29 Jun 2022', '14 Mar 2024', '22 Aug 2023', '6 Sept 2023', '15 Sept 2022']\n"
     ]
    }
   ],
   "source": [
    "Review_time = [times.text.strip() for times in driver.find_elements(By.CSS_SELECTOR, \"article time[data-service-review-date-time-ago]\")]\n",
    "print(Review_time)"
   ]
  },
  {
   "cell_type": "markdown",
   "id": "89948c5b-0755-4139-a88f-ff0d2b311e11",
   "metadata": {},
   "source": [
    "## Review-Title\n"
   ]
  },
  {
   "cell_type": "code",
   "execution_count": 4,
   "id": "18abdba5-dd1c-4a85-9a04-cd477add1bfc",
   "metadata": {},
   "outputs": [
    {
     "name": "stdout",
     "output_type": "stream",
     "text": [
      "['Looking for a 16mm deep ¼ drive socket…', 'Drum De-header', 'The response and services from Raptor. Good supplier of parts.', 'Water Pumps for Welding Water Coolers.', 'It was my first purchase', 'Great', 'They supply everything', 'From Japan', 'The team provided fast response on…', 'Item came as described', 'Thank you, Mr Singh, for my perfect first deal', 'Top-notch tools supplier!', 'Wilton sledge hammers', 'Always Raptor for orders of US parts :-)', 'Had a really good experience on my…', 'Really friendly and professional staff', 'Great Service!', 'Experience Good', 'Great communication and service', 'Raptor Supplies - Exceptional Customer Service']\n"
     ]
    }
   ],
   "source": [
    "Review_title = [titles.text.strip() for titles in driver.find_elements(By.CSS_SELECTOR, \"div.styles_reviewContent__0Q2Tg a[data-review-title-typography]\")]\n",
    "print(Review_title)"
   ]
  },
  {
   "cell_type": "markdown",
   "id": "41ebd9b6-ebec-4e65-82d5-e23be91afd4e",
   "metadata": {},
   "source": [
    "## Review_text"
   ]
  },
  {
   "cell_type": "code",
   "execution_count": 5,
   "id": "da9ebe64-61f5-4abb-9f36-2d9e292e29f5",
   "metadata": {},
   "outputs": [
    {
     "name": "stdout",
     "output_type": "stream",
     "text": [
      "['Looking for a 16mm deep ¼ drive socket and this site had it at a fiar price inc delivery dread to think what snap-on would have charged\\n\\nDelivery box was a bit over the top but quick service and delivery\\n\\nI was happy with the one time use of this company', 'We purchased a drum de-header that developed a fault when we first used it. The order processing team went out of their way to provide a replacement item very quickly. Thank you for your excellent service.', 'The response and services from Raptor Supplies was very fast and good. Ordered some parts from Raptor, received them within a week. I have a part which was not working, feed back to them and they replaced one within 2 days without much questions asked. Will recommend and buy parts from them again.', 'Our order was handled in a very professional way from the inquiry stage up to receiving the material at our office. It is our first time dealing with Raptor that was during the month of Augst 2023.', 'It was my first purchase. Wonderful experience. Products came right on time with perfect packing. They have a great team. You wont see 4-5 ppl responding to 1 enquiry any where else.', 'Great ! Glad my items being delivered with the full help from Raptor Supplies team. Hopefully remaining balance of the item will be arriving soon.', 'This Company is always helpful, quick in answers and can help in sourcing SKUs which, for whatever reason, are hard to source from other or our usual suppliers...so, they are very handy in hard times...and at a fair price.', 'I ordered from Japan and they were kind and courteous to me even though I speak poor English. This was a wonderful response that surprised even the Japanese, who are known for their hospitality. A RI GA TO !', \"The team provided fast response on every email sent and always give solutions to our concern and delivery on time. Thank you Raptor's team for the great effort.\", 'Item came as described. Priced well for the quantity. Would shop again.', \"We are Daewon International Company, a professional construction company that construct ultra-flat flooring in Korea.\\nWe were looking for parts for the maintenance of the floor trimming equipment.\\nWhile searching the internet through overseas direct purchase, I came across cheaper and more reliable products through Raptor Supplies Limited.\\n\\nIt's our first transaction, but Raptor Supplies Limited. responded kindly and quickly despite several e-mail questions\\nThank you for letting me know about various questions about overseas direct purchase\\n\\nAlso, thank you for letting us arrive safely and quickly from the continental United States to Korea through FeDex in a week\\n\\nHowever, what was regrettable was that the payment method (value-added tax 10%) different from Korea was a little unstable, but as a result, I am relieved that it was resolved well\\n\\nOnce again, I would like to thank Mr. Singh, the Raptor Supplies Limited. Sales Representative, and his internal partners\\nThank you all!\", 'The Irwin bolt-grip sockets provided by Raptor supplies saved my butt as I had to deal with a rounded off spark plug on my car.\\nThank you so much for providing hard-to-find efficient tools.\\nFab', 'We struggled finding Wilton sledge hammers that could be delivered to us promptly. Raptor provided us with great advice and very efficient service. Thank you.', 'All times my orders from Raptor Supplies are with great support, fast and for excellent prices. My first choice for US parts anytime.', 'Had a really good experience on my first deal with you guys. I recieved my shipment in time after we did our payment .... appreciate you guys on that.... expecting to do more business with you....\\n\\nKeep up this good work...', 'Really friendly and professional staff. Everyone I dealt with was polite and helpful. Thankyou for keeping me informed and updated. Great doing business with you.', 'Raptor team are very helpful and friendly over the service provided them and request from us.\\n\\nHighly recommended.', 'Experience: Satisfactory\\nDelivery: In time\\nQuality of items: Same as ordered. Easy to select items and order.\\nTerms of payment: Performa invoice is a best option.\\nCustomer service: Quick response', 'Great communication and service\\nEasy to deal with from getting a quote to delivery.\\nFast and reliable service.\\nReceived a follow up call to ensure that I had received the item.', 'The way this company handled a recent problematic transaction for me is noteworthy. Following a machine breakdown, they located a difficult to source, but critical electrical part from the USA and made all the arrangements to get it sent directly to me by FedEx, next day service to the UK. The part duly arrived very quickly, without any need for me to chase or sort out import duty & VAT etc. Sadly, when it was fitted to the machine, it was found to be defective. As soon as I informed them that it was faulty, they tried very hard to source another part from their US sources, but were unable to do so without significant lead times which I could not accept. Without further ado, they refunded the cost of the entire transaction including the higher than normal shipping charges. In my view, even though the part was defective, it was clearly not their fault, but they took responsibility for it and dealt with it and me in an impeccable manner. Brilliant communication throughout.']\n"
     ]
    }
   ],
   "source": [
    "Review_text = [texts.text.strip() for texts in driver.find_elements(By.CSS_SELECTOR, \"div.styles_reviewContent__0Q2Tg p[data-service-review-text-typography]\")]\n",
    "print(Review_text)"
   ]
  },
  {
   "cell_type": "code",
   "execution_count": null,
   "id": "2a95be1b-511e-4ce1-9245-c26a67d99a36",
   "metadata": {},
   "outputs": [],
   "source": []
  },
  {
   "cell_type": "code",
   "execution_count": null,
   "id": "17844f0b-f55e-4fd1-a953-c29bc4a37c39",
   "metadata": {},
   "outputs": [],
   "source": [
    "import pandas as pd"
   ]
  },
  {
   "cell_type": "code",
   "execution_count": 51,
   "id": "3ed9e59b-6606-4bed-854d-1585e749b773",
   "metadata": {},
   "outputs": [],
   "source": [
    "from itertools import zip_longest \n",
    "Review_Name = [names.text.strip() if names.text.strip() else '' for names in driver.find_elements(By.CSS_SELECTOR, \"article [data-consumer-name-typography]\")]\n",
    "Review_count = [count.text.strip() if count.text.strip() else '' for count in driver.find_elements(By.CSS_SELECTOR, \"article [data-consumer-reviews-count-typography]\")]\n",
    "Review_country = [countrys.text.strip() if countrys.text.strip() else '' for countrys in driver.find_elements(By.CSS_SELECTOR, \"article [data-consumer-country-typography]\")]\n",
    "Review_star = [stars.get_attribute('src') if stars.get_attribute('src') else '' for stars in driver.find_elements(By.CSS_SELECTOR, \"article [data-service-review-rating] img\")]\n",
    "Review_time = [times.text.strip() if times.text.strip() else '' for times in driver.find_elements(By.CSS_SELECTOR, \"article time[data-service-review-date-time-ago]\")]\n",
    "Review_title = [titles.text.strip() if titles.text.strip() else '' for titles in driver.find_elements(By.CSS_SELECTOR, \"div.styles_reviewContent__0Q2Tg a[data-review-title-typography]\")]\n",
    "Review_text = [texts.text.strip().replace('\\n', '') for texts in driver.find_elements(By.CSS_SELECTOR, \"article [data-service-review-text-typography]\")]\n",
    "# for name, count, country, star,time, title, text in zip_longest(Review_Name, Review_count, Review_country, Review_star, Review_time, Review_title, Review_text):\n",
    "# data = {\n",
    "#     'Name': Review_Name,\n",
    "#     'Count': Review_count,\n",
    "#     'Country': Review_country,\n",
    "#     'Star': Review_star,\n",
    "#     'Time': Review_time,\n",
    "#     'Title': Review_title,\n",
    "#     'Text': Review_text\n",
    "# }\n",
    "# data = {\n",
    "#     'Name': [Review_Name] * len(Review_Name),\n",
    "#     'Count': [Review_count] * len(Review_Name),\n",
    "#     'Country': [Review_country] * len(Review_Name),\n",
    "#     'Star': [str(Review_star)] * len(Review_Name),\n",
    "#     'Time': [str(Review_time)] * len(Review_Name),\n",
    "#     'Title': [str(Review_title)] * len(Review_Name),\n",
    "#     'Text': [str(Review_text)] * len(Review_Name),\n",
    "# }\n",
    "# df = pd.DataFrame(data)\n",
    "# # Save the DataFrame to a CSV file\n",
    "# df.to_csv('reviews.csv', index=False)\n",
    "# print('data')\n",
    "\n",
    "# Create a dictionary to map names to their corresponding data\n",
    "data_dict = {}\n",
    "for name, count, country, star, time, title, text in zip_longest(Review_Name, Review_count, Review_country, Review_star, Review_time, Review_title, Review_text):\n",
    "    data_dict[name] = {\n",
    "        'Count': count,\n",
    "        'Country': country,\n",
    "        'Star': star,\n",
    "        'Time': time,\n",
    "        'Title': title,\n",
    "        'Text': text\n",
    "    }\n",
    "\n",
    "# Convert the dictionary to a DataFrame\n",
    "df = pd.DataFrame.from_dict(data_dict, orient='index')\n",
    "\n",
    "# Reset index to make 'Name' a column\n",
    "df.reset_index(inplace=True)\n",
    "df.rename(columns={'index': 'Name'}, inplace=True)\n",
    "\n",
    "# Save the DataFrame to a CSV file\n",
    "df.to_csv('reviews.csv', index=False)"
   ]
  },
  {
   "cell_type": "code",
   "execution_count": null,
   "id": "6c9f947b-c174-4a6a-bb7a-4c7ecca78ec3",
   "metadata": {},
   "outputs": [],
   "source": []
  }
 ],
 "metadata": {
  "kernelspec": {
   "display_name": "Python 3 (ipykernel)",
   "language": "python",
   "name": "python3"
  },
  "language_info": {
   "codemirror_mode": {
    "name": "ipython",
    "version": 3
   },
   "file_extension": ".py",
   "mimetype": "text/x-python",
   "name": "python",
   "nbconvert_exporter": "python",
   "pygments_lexer": "ipython3",
   "version": "3.12.4"
  }
 },
 "nbformat": 4,
 "nbformat_minor": 5
}
