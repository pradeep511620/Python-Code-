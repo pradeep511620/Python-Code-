{
 "cells": [
  {
   "cell_type": "code",
   "execution_count": 49,
   "id": "46f7079f-d2ac-4ba4-860a-9e0463adba28",
   "metadata": {},
   "outputs": [],
   "source": [
    "import time\n",
    "from bs4 import BeautifulSoup\n",
    "from selenium import webdriver\n",
    "from selenium.webdriver.common.by import By\n",
    "import pandas as pd\n",
    "from itertools import zip_longest\n",
    "from selenium.webdriver.common.keys import Keys\n",
    "\n",
    "login_url = \"https://businessapp.b2b.trustpilot.com/reviews?date=2024-07-01,2024-07-23\"\n",
    "# login_url = \"https://businessapp.b2b.trustpilot.com/reviews\"\n",
    "driver = webdriver.Chrome()  # Replace with the appropriate webdriver driver_path\n",
    "driver.get(login_url)\n",
    "time.sleep(5)\n",
    "username = 'raptorsupplies@gmail.com'\n",
    "password = 'Raptor2014@#'\n",
    "username_field = driver.find_element(By.XPATH, '//*[@id=\"email\"]').send_keys(username)\n",
    "password_field = driver.find_element(By.XPATH, '//*[@id=\"password\"]').send_keys(password)\n",
    "time.sleep(1)\n",
    "submit_button = driver.find_element(By.XPATH, '//*[@id=\"login-styled-page-container\"]/div[1]/div/button/span')\n",
    "submit_button.click()\n",
    "time.sleep(20)\n",
    "\n"
   ]
  },
  {
   "cell_type": "code",
   "execution_count": 50,
   "id": "1b7d1d12-ae4c-4ced-a7c1-bf05a9cadbc6",
   "metadata": {},
   "outputs": [
    {
     "name": "stdout",
     "output_type": "stream",
     "text": [
      "A\n"
     ]
    }
   ],
   "source": [
    "\n",
    "# Function to scroll the page and reload the script\n",
    "def scroll_and_reload():\n",
    "    last_height = driver.execute_script(\"return document.body.scrollHeight\")\n",
    "    while True:\n",
    "        driver.execute_script(\"window.scrollTo(0, document.body.scrollHeight);\")\n",
    "        time.sleep(5)\n",
    "        new_height = driver.execute_script(\"return document.body.scrollHeight\")\n",
    "        if new_height == last_height:\n",
    "            break\n",
    "        last_height = new_height\n",
    "\n",
    "\n",
    "# scroll_and_reload()\n",
    "print(\"A\")\n"
   ]
  },
  {
   "cell_type": "code",
   "execution_count": 59,
   "id": "b6996f33-d793-4adf-b1c4-601952230d16",
   "metadata": {},
   "outputs": [
    {
     "name": "stdout",
     "output_type": "stream",
     "text": [
      "14 Jul 2024\n"
     ]
    }
   ],
   "source": [
    "try:\n",
    "    existing_df = pd.read_csv('trustpilot1.csv')\n",
    "    # Get the last saved timestamp\n",
    "    last_saved_time = existing_df['Last_time'].min()\n",
    "    print(last_saved_time)\n",
    "except FileNotFoundError:\n",
    "    # If the file doesn't exist, assume no last timestamp\n",
    "    last_saved_time = None"
   ]
  },
  {
   "cell_type": "code",
   "execution_count": 60,
   "id": "4e476ca6-6dbf-4190-856e-c246aeb846d8",
   "metadata": {},
   "outputs": [],
   "source": [
    "# try:\n",
    "#     existing_df = pd.read_csv('trustpilot1.csv')\n",
    "#     # Get the last saved timestamp\n",
    "#     last_saved_time = existing_df['Last_time'].min()\n",
    "#     print(last_saved_time)\n",
    "# except FileNotFoundError:\n",
    "#     # If the file doesn't exist, assume no last timestamp\n",
    "#     last_saved_time = None\n",
    "\n",
    "\n",
    "# Review_Title_elements = driver.find_elements(By.CSS_SELECTOR, \"a.review__title\")\n",
    "# Review_text_elements = driver.find_elements(By.CSS_SELECTOR, \"div.review__text p\")\n",
    "# Review_name_elements = driver.find_elements(By.CSS_SELECTOR, 'div.review__consumer div.review__consumer__name')\n",
    "# Review_source_elements = driver.find_elements(By.CSS_SELECTOR, \"div.review__details div[title='Organic']\")\n",
    "# cus_review_elements = driver.find_elements(By.CLASS_NAME, 'review__consumer__reviews')\n",
    "# Review_stars_elements = [sr.get_attribute('src') for sr in driver.find_elements(By.CSS_SELECTOR, 'div.review__stars img')]\n",
    "# Last_time_elements = driver.find_elements(By.CSS_SELECTOR, \"div.review__stars p span\")\n",
    "\n",
    "# values_list = []\n",
    "\n",
    "# # Using zip_longest to ensure all lists are the same length\n",
    "# for title, texts, name, source, star, times, cus_review in zip_longest(\n",
    "#     Review_Title_elements, Review_text_elements, Review_name_elements, Review_source_elements,\n",
    "#     Review_stars_elements, cus_review_elements, Last_time_elements, fillvalue=None):\n",
    "    \n",
    "#     # Extract text or set as empty string if element is None\n",
    "#     Review_Title = title.text if title else ''\n",
    "#     Review_text = texts.text if texts else ''\n",
    "#     Review_name = name.text if name else ''\n",
    "#     Review_source = source.text if source else ''\n",
    "#     Review_stars = star if star else ''\n",
    "#     cus_review = cus_review.text if cus_review else ''\n",
    "#     Last_time = times.text if times else ''\n",
    "\n",
    "    \n",
    "#     # Create a list of the extracted values\n",
    "#     lis = [Review_Title, Review_text, Review_name, Review_source, Review_stars,Last_time, cus_review]\n",
    "#     print(lis)\n",
    "\n",
    "#     # Append the list to the values_list\n",
    "#     values_list.append(lis)\n",
    "\n",
    "# # Create a DataFrame from the list of values\n",
    "# df = pd.DataFrame(values_list, columns=['Review_Title', 'Review_text', 'Review_name', 'Review_source', 'Review_stars', 'cus_review', 'Last_time'])\n",
    "\n",
    "# # Save the DataFrame to a CSV file\n",
    "# df.to_csv('trustpilot1.csv', index=False)\n",
    "\n",
    "# # Sleep for a while before closing the driver (optional)\n",
    "# time.sleep(5)\n"
   ]
  },
  {
   "cell_type": "code",
   "execution_count": 63,
   "id": "946b3a3f-4fef-4ce3-b81d-9fab30508db3",
   "metadata": {},
   "outputs": [
    {
     "name": "stdout",
     "output_type": "stream",
     "text": [
      "['Godd', 'You esss sangatlah memuaskan', 'by Robi Bocil', 'Source: Organic', 'https://cdn.trustpilot.net/brand-assets/4.1.0/stars/stars-2.svg', '1', '14 Jul 2024']\n",
      "['Prompt dispatch', 'Prompt dispatch, genuine product, would shop again.', 'by Allan Goodall', 'Source: Organic', 'https://cdn.trustpilot.net/brand-assets/4.1.0/stars/stars-5.svg', '1', '8 Jul 2024']\n",
      "['Amerikaanse industriële onderdelen in 7 dagen!', 'Ik bestelde wat industriële benodigdheden uit Amerika en ze kwamen 7 dagen later aan in Nederland. Ik ben onder de indruk.', 'by Colin', 'Source: Organic', 'https://cdn.trustpilot.net/brand-assets/4.1.0/stars/stars-5.svg', '1', '4 Jul 2024']\n",
      "['I regret to say that my recent…', 'I regret to say that my recent experience with Raptor Supplies has been highly disappointing. The items supplied were not in good condition and the packaging was not sea-worthy, which is a significant concern for our operations. Specifically:\\n\\nPackaging: The packaging was inadequate for sea transportation. The materials used were not durable, Proper, robust packaging is essential to ensure items arrive in good condition.\\n\\nService: The service provided has been far from satisfactory. Communication has been sporadic and unresponsive. Issues were not addressed promptly, and there was a lack of transparency throughout the process.\\n\\nThese issues have caused significant disruptions to our operations. We hope that Raptor Supplies will take these concerns seriously and work towards improving their quality control, packaging standards, and overall service. We value reliable suppliers and expect these improvements to avoid future problems.', 'by Sam', 'Source: Organic', 'https://cdn.trustpilot.net/brand-assets/4.1.0/stars/stars-1.svg', '2', '2 Jul 2024']\n",
      "['Vacuum motor', 'I was tasked with sourcing a vacuum motor which, although available locally, was quite expensive \\n\\nRaptor offered a reasonable price, and the delivery to my door was quick and painless.\\n\\nWill certainly be using Raptor in the future.', 'by Peter Rundle', 'Source: Organic', 'https://cdn.trustpilot.net/brand-assets/4.1.0/stars/stars-5.svg', '1', '2 Jul 2024']\n",
      "['Product arrived within a week', 'Product arrived within a week. Was well priced and was exactly what I ordered', 'by customer', 'Source: Organic', 'https://cdn.trustpilot.net/brand-assets/4.1.0/stars/stars-5.svg', '3', '2 Jul 2024']\n"
     ]
    }
   ],
   "source": [
    "# Find elements using CSS selectors\n",
    "Review_Title_elements = driver.find_elements(By.CSS_SELECTOR, \"a.review__title\")\n",
    "Review_text_elements = driver.find_elements(By.CSS_SELECTOR, \"div.review__text p\")\n",
    "Review_name_elements = driver.find_elements(By.CSS_SELECTOR, 'div.review__consumer div.review__consumer__name')\n",
    "Review_source_elements = driver.find_elements(By.CSS_SELECTOR, \"div.review__details div[title='Organic']\")\n",
    "cus_review_elements = driver.find_elements(By.CLASS_NAME, 'review__consumer__reviews')\n",
    "Review_stars_elements = [sr.get_attribute('src') for sr in driver.find_elements(By.CSS_SELECTOR, 'div.review__stars img')]\n",
    "Last_time_elements = driver.find_elements(By.CSS_SELECTOR, \"div.review__stars p span\")\n",
    "\n",
    "values_list = []\n",
    "\n",
    "# Using zip_longest to ensure all lists are the same length\n",
    "for title, texts, name, source, star, times, cus_review in zip_longest(\n",
    "    Review_Title_elements, Review_text_elements, Review_name_elements, Review_source_elements,\n",
    "    Review_stars_elements, cus_review_elements, Last_time_elements, fillvalue=None):\n",
    "    \n",
    "    # Extract text or set as empty string if element is None\n",
    "    Review_Title = title.text if title else ''\n",
    "    Review_text = texts.text if texts else ''\n",
    "    Review_name = name.text if name else ''\n",
    "    Review_source = source.text if source else ''\n",
    "    Review_stars = star if star else ''\n",
    "    cus_review = cus_review.text if cus_review else ''\n",
    "    Last_time = times.text if times else ''\n",
    "\n",
    "    # Break the loop if the last saved time matches the current scraped time\n",
    "    if Last_time == last_saved_time:\n",
    "        print(\"Match found. Breaking the loop.\")\n",
    "        break\n",
    "    \n",
    "    # Create a list of the extracted values\n",
    "    lis = [Review_Title, Review_text, Review_name, Review_source, Review_stars, cus_review, Last_time]\n",
    "    print(lis)\n",
    "\n",
    "    # Append the list to the values_list\n",
    "    values_list.append(lis)\n",
    "\n",
    "# If there are new values, save them to the CSV\n",
    "if values_list:\n",
    "    df = pd.DataFrame(values_list, columns=['Review_Title', 'Review_text', 'Review_name', 'Review_source', 'Review_stars', 'cus_review', 'Last_time'])\n",
    "    df.to_csv('trustpilot1.csv', index=False, mode='a', header=not existing_df.empty)\n",
    "\n",
    "# Sleep for a while before closing the driver (optional)\n",
    "time.sleep(5)\n"
   ]
  },
  {
   "cell_type": "code",
   "execution_count": null,
   "id": "9783b5d9-cc7d-4298-800e-3bda7f2ffbbf",
   "metadata": {},
   "outputs": [],
   "source": []
  }
 ],
 "metadata": {
  "kernelspec": {
   "display_name": "Python 3 (ipykernel)",
   "language": "python",
   "name": "python3"
  },
  "language_info": {
   "codemirror_mode": {
    "name": "ipython",
    "version": 3
   },
   "file_extension": ".py",
   "mimetype": "text/x-python",
   "name": "python",
   "nbconvert_exporter": "python",
   "pygments_lexer": "ipython3",
   "version": "3.12.4"
  }
 },
 "nbformat": 4,
 "nbformat_minor": 5
}
