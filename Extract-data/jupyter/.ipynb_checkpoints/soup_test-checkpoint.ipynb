{
 "cells": [
  {
   "cell_type": "code",
   "execution_count": 1,
   "id": "f60681c7-3cb2-4cc5-9116-0d8dd1d92219",
   "metadata": {},
   "outputs": [
    {
     "name": "stdout",
     "output_type": "stream",
     "text": [
      "H\n"
     ]
    }
   ],
   "source": [
    "import requests\n",
    "from bs4 import BeautifulSoup\n",
    "import pandas as pd\n",
    "\n",
    "sess = requests.Session()\n",
    "headers = {\n",
    "    \"User-Agent\": \"Mozilla/5.0 (Windows NT 10.0; Win64; x64) AppleWebKit/537.36 (KHTML, like Gecko) Chrome/122.0.0.0 Safari/537.36\"}\n",
    "url = 'https://www.pkt.pl/szukaj/71117'\n",
    "ress = sess.get(url, headers=headers)\n",
    "soup = BeautifulSoup(ress.content, \"lxml\")\n",
    "print('H')"
   ]
  },
  {
   "cell_type": "code",
   "execution_count": 5,
   "id": "98488147-4113-4ea5-90f4-e6ab17383633",
   "metadata": {},
   "outputs": [
    {
     "name": "stdout",
     "output_type": "stream",
     "text": [
      "Names: Archidiecezjalne Wyższe Seminarium Duchowne\n",
      "Niepubliczne szkoły wyższe Białystok\n"
     ]
    }
   ],
   "source": [
    "company_list = soup.select_one('div[class=\"dis-cell company-info\"] h2').text.strip()\n",
    "print(\"Names:\", company_list)\n",
    "\n",
    "company_category = soup.select_one('div[class=\"dis-cell company-info\"] .company-category').text.strip()\n",
    "print(company_category)\n",
    "\n",
    "company_address = soup('[class=\"box-company-street\"]').text.strip()\n",
    "print(company_address)\n",
    "\n",
    "# address_list = [add.text.strip() for add in soup.select(\"[class='teaser-lg--content-text'] [class='address']\")]\n",
    "# # print(\"Addresses:\", address_list)\n",
    "# telefon_list = []\n",
    "# telefax_list = []\n",
    "# mobile_list = []\n",
    "# email_list = []\n",
    "\n",
    "# contact_numbers = soup.select('div[class=\"contact-numbers\"]')\n",
    "# for contact in contact_numbers:\n",
    "#     telefon = ''\n",
    "#     telefax = ''\n",
    "#     mobile = ''\n",
    "#     email = ''\n",
    "\n",
    "#     details = contact.select('div')\n",
    "#     for detail in details:\n",
    "#         try:\n",
    "#             label = detail.select_one('p').text.strip()\n",
    "#             value = detail.select('p')[1].text.strip()\n",
    "#         except IndexError:\n",
    "#             label = 'N/A'\n",
    "#             value = ''\n",
    "\n",
    "#         if label == \"Telefon\":\n",
    "#             telefon = value\n",
    "#         elif label == \"Telefax\":\n",
    "#             telefax = value\n",
    "#         elif label == \"Mobil\":\n",
    "#             mobile = value\n",
    "#         elif label == \"E-Mail\":\n",
    "#             email = value\n",
    "\n",
    "#     telefon_list.append(telefon)\n",
    "#     telefax_list.append(telefax)\n",
    "#     mobile_list.append(mobile)\n",
    "#     email_list.append(email)\n",
    "\n",
    "# # Ensure all lists are of the same length\n",
    "# lists_to_pad = [telefon_list, telefax_list, mobile_list, email_list]\n",
    "# max_length = max(len(lst) for lst in lists_to_pad)\n",
    "# for lst in lists_to_pad:\n",
    "#     while len(lst) < max_length:\n",
    "#         lst.append('')\n",
    "\n",
    "# # Create the DataFrame\n",
    "# data_save = {\n",
    "#     'Name': name_list if name_list else [''] * max_length,\n",
    "#     'Telefon': telefon_list,\n",
    "#     'Telefax': telefax_list,\n",
    "#     'Mobil': mobile_list,\n",
    "#     'E-Mail': email_list,\n",
    "# }\n",
    "\n",
    "# df = pd.DataFrame(data_save)\n",
    "# df.to_csv('contact_details.csv', index=False)\n",
    "# print(df)\n",
    "# print(\"Data saved successfully!\")"
   ]
  },
  {
   "cell_type": "code",
   "execution_count": null,
   "id": "b76e04b4-57cd-4431-8e2d-51b71ea277c8",
   "metadata": {},
   "outputs": [],
   "source": []
  }
 ],
 "metadata": {
  "kernelspec": {
   "display_name": "Python 3 (ipykernel)",
   "language": "python",
   "name": "python3"
  },
  "language_info": {
   "codemirror_mode": {
    "name": "ipython",
    "version": 3
   },
   "file_extension": ".py",
   "mimetype": "text/x-python",
   "name": "python",
   "nbconvert_exporter": "python",
   "pygments_lexer": "ipython3",
   "version": "3.13.1"
  }
 },
 "nbformat": 4,
 "nbformat_minor": 5
}
