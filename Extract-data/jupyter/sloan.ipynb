{
 "cells": [
  {
   "cell_type": "code",
   "execution_count": 1,
   "id": "515a23be-0e68-46b8-aae7-17241daea541",
   "metadata": {},
   "outputs": [],
   "source": [
    "import time\n",
    "import pandas as pd\n",
    "from selenium import webdriver\n",
    "import undetected_chromedriver as uc\n",
    "from selenium.webdriver.chrome.options import Options\n",
    "from selenium .webdriver.common.by import By\n",
    "from itertools import zip_longest\n",
    "headers = {\n",
    "    \"User-Agent\": \"Mozilla/5.0 (Windows NT 10.0; Win64; x64) AppleWebKit/537.36 (KHTML, like Gecko) Chrome/122.0.0.0 Safari/537.36\"}\n",
    "\n",
    "chrome_options = Options()\n",
    "chrome_options.add_argument(\"--no-sandbox\")\n",
    "# chrome_options.add_argument('--headless')\n",
    "chrome_options.add_argument(f'user-agent={headers[\"User-Agent\"]}')\n",
    "driver = webdriver.Chrome(options=chrome_options)\n",
    "driver.maximize_window()\n",
    "# url = 'https://www.3m.com/3M/en_US/p/d/v000060650/'\n",
    "# url = 'https://www.sloan.com/commercial-bathroom-products/flushometers/ecos/ecos-111'\n",
    "url = 'https://www.sloan.com/commercial-bathroom-products/hand-dryers/sloan-xlerator/ehd-501?variation_sku=3366122'\n",
    "driver.get(url)\n",
    "time.sleep(5)"
   ]
  },
  {
   "cell_type": "code",
   "execution_count": 3,
   "id": "4d284a08-65d5-485d-b805-0b651d1034e6",
   "metadata": {},
   "outputs": [
    {
     "name": "stdout",
     "output_type": "stream",
     "text": [
      "ddd\n"
     ]
    }
   ],
   "source": [
    "print('ddd')\n",
    "final_data = []"
   ]
  },
  {
   "cell_type": "code",
   "execution_count": 6,
   "id": "171dedab-f1af-4898-aee7-28433b45316d",
   "metadata": {},
   "outputs": [
    {
     "data": {
      "text/plain": [
       "'$1,204.74\\nEach'"
      ]
     },
     "execution_count": 6,
     "metadata": {},
     "output_type": "execute_result"
    }
   ],
   "source": [
    "price = driver.find_element(By.CSS_SELECTOR, \"div.slo-price-info div.price-info--price-wrapper\").text.strip()\n",
    "price"
   ]
  },
  {
   "cell_type": "code",
   "execution_count": 103,
   "id": "9ae8f8e5-064c-4173-b99e-7e4836c478a5",
   "metadata": {},
   "outputs": [
    {
     "name": "stdout",
     "output_type": "stream",
     "text": [
      "Extracted Specifications: [{'Flow Rate (gpm)': '0.5\\n1.5'}, {'Spray Type': 'Multi-Laminar\\nAerated (installed) or Laminar (in box)'}, {'Trim Plate (in)': 'None\\n4'}, {'Mixer': 'Integrated Side Mixer\\nBack-Check Tee'}, {'Compliances & Certifications': 'CalGreen Compliant\\nNYC604.4\\nSatisfies LEED Credits\\nGPC 0.25 or less'}]\n"
     ]
    }
   ],
   "source": [
    "try:    \n",
    "    h4_elements = driver.find_elements(By.CSS_SELECTOR, \"h4.filter-title.flex-1.text-base.fw-strong\")\n",
    "    h4_texts = [h4.text.strip() for h4 in h4_elements if h4.is_displayed()]\n",
    "   \n",
    "    h3_elements = driver.find_elements(By.CSS_SELECTOR, \"div.flex-1.ais-RefinementList\")\n",
    "    h3_texts = [h3.text.strip() for h3 in h3_elements if h3.is_displayed()]\n",
    "except Exception as e:\n",
    "    print(f\"Error extracting specifications: {str(e)}\")\n",
    "\n",
    "specs = [{name: value} for name, value in zip_longest(h4_texts, h3_texts, fillvalue='N/A')]\n",
    "print(\"Extracted Specifications:\", specs)\n"
   ]
  },
  {
   "cell_type": "code",
   "execution_count": 104,
   "id": "7a80212f-e733-49c5-8f4d-77caea4a213b",
   "metadata": {},
   "outputs": [],
   "source": [
    "l3_name = [l3.text.strip() for l3 in driver.find_elements(By.CSS_SELECTOR, \"div#block-sloan-breadcrumbs ol a\")]\n",
    "L3_Name = \"## \".join(l3_name)\n",
    "\n",
    "product_title = driver.find_element(By.CSS_SELECTOR, \"div.slo-product-info .row h1\").text.strip()\n",
    "\n",
    "short = driver.find_element(By.CSS_SELECTOR, \"div.slo-product-info .row .mt-2xs.text-xl p\").text.strip()\n",
    "\n",
    "description_1 = driver.find_elements(By.CSS_SELECTOR, \"div.slo-product-info .row .mt-2xs p\")[-1].text.strip()\n",
    "\n",
    "description_2 = [feature.text.strip().replace('\\n', \">>\") for feature in driver.find_elements(By.CSS_SELECTOR, \"section.product-section.product-features-list ul\")]\n",
    "\n",
    "image_list = [{\"src\": img1.get_attribute('src') if img1.get_attribute('src') else 'N/A', \"alt\": img1.get_attribute('alt') if img1.get_attribute('alt') else 'N/A'} for img1 in driver.find_elements(By.CSS_SELECTOR, \"div.product-media button img\")]\n",
    "\n",
    "source_of_related = [source.get_attribute('href') for source in driver.find_elements(By.CSS_SELECTOR, 'div.related-products-grid header a')]\n",
    "\n",
    "datasheet = list(set([pdf.get_attribute('href') for pdf in driver.find_elements(By.CSS_SELECTOR, '#downloads article a')]))\n"
   ]
  },
  {
   "cell_type": "code",
   "execution_count": 105,
   "id": "2d8209ce-2d6c-4e58-bcaa-214b07770548",
   "metadata": {},
   "outputs": [
    {
     "name": "stdout",
     "output_type": "stream",
     "text": [
      "0\n"
     ]
    }
   ],
   "source": [
    "pdf_list = []\n",
    "pdf = driver.find_elements(By.CSS_SELECTOR, \"#downloads article\")\n",
    "for source in pdf:\n",
    "    try:\n",
    "        source_pdf = source.find_element(By.CSS_SELECTOR, \"a.download-type\").get_attribute('href')\n",
    "    except:\n",
    "        source_pdf = 'N/A'\n",
    "    pdf_list.append(source_pdf)\n",
    "\n",
    "print(len(pdf_list))\n",
    "\n"
   ]
  },
  {
   "cell_type": "code",
   "execution_count": 106,
   "id": "08220ccc-a776-4fe1-ac12-5ef76ed7b16e",
   "metadata": {},
   "outputs": [
    {
     "name": "stdout",
     "output_type": "stream",
     "text": [
      "Description 3: The BASYS faucet is centered on a robust system of shared features and components. The EFX-100 is a hardwired tall profile faucet that offers a distinct aesthetic as well as an optimized delivery angl\n"
     ]
    }
   ],
   "source": [
    "try:\n",
    "    description_3 = driver.find_element(By.CSS_SELECTOR, \"span.text-trimmed\").text.strip()\n",
    "    print(f\"Description 3: {description_3}\")\n",
    "except Exception as e:\n",
    "    description_3 = 'N/A'\n",
    "    print(f\"Error extracting Description 3: {str(e)}\")"
   ]
  },
  {
   "cell_type": "code",
   "execution_count": 110,
   "id": "e41e94f5-0b99-4e64-9e54-5959a0220ab5",
   "metadata": {},
   "outputs": [
    {
     "name": "stdout",
     "output_type": "stream",
     "text": [
      "Data saved successfully!\n"
     ]
    }
   ],
   "source": [
    "# Collect data for each product variation\n",
    "image_list = []\n",
    "mpn_list = []\n",
    "number_list = []\n",
    "price_list = []\n",
    "discontinued_list = []\n",
    "inner_description_list = []\n",
    "product_variations = driver.find_elements(By.CSS_SELECTOR, \"#variations ul li.product-variation-item\")\n",
    "for variation in product_variations:\n",
    "    try:\n",
    "        image = variation.find_element(By.CSS_SELECTOR, \"div.slo-product-image img\").get_attribute('src')\n",
    "    except:\n",
    "        image = 'N/A'\n",
    "    image_list.append(image)\n",
    "    \n",
    "    try:\n",
    "        mpn = variation.find_element(By.CSS_SELECTOR, \"h4\").text.strip()\n",
    "    except:\n",
    "        mpn = 'N/A'\n",
    "    mpn_list.append(mpn)\n",
    "\n",
    "    try:\n",
    "        number = variation.find_element(By.CSS_SELECTOR, \".items-baseline p\").text.strip()\n",
    "    except:\n",
    "        number = 'N/A'\n",
    "    number_list.append(number)\n",
    "\n",
    "\n",
    "    try:\n",
    "        price = variation.find_element(By.CSS_SELECTOR, \"div.price-info--price-wrapper\").text.strip()\n",
    "    except:\n",
    "        price = 'N/A'\n",
    "    price_list.append(price)\n",
    "\n",
    "    try:\n",
    "        discontinued = variation.find_element(By.CSS_SELECTOR, \".items-baseline span\").text.strip()\n",
    "    except:\n",
    "        discontinued = 'N/A'\n",
    "    discontinued_list.append(discontinued)\n",
    "\n",
    "    try:\n",
    "        inner_description = variation.find_element(By.CSS_SELECTOR, \"p.mt-sm.text-sm\").text.strip()\n",
    "    except:\n",
    "        inner_description = 'N/A'\n",
    "    inner_description_list.append(inner_description)\n",
    "# print(number_list)\n",
    "\n",
    "lists_to_pad = [image_list, mpn_list, number_list, price_list, discontinued_list, pdf_list, inner_description_list, specs]  # Add all lists to be saved\n",
    "max_length = max(len(image_list), len(mpn_list), len(number_list), len(price_list), len(discontinued_list), len(pdf_list), len(inner_description_list),len(specs))\n",
    "\n",
    "# Ensure all lists are of the same length\n",
    "for lst in lists_to_pad:\n",
    "    while len(lst) < max_length:\n",
    "        lst.append('')\n",
    "\n",
    "# Example data structure to save\n",
    "data_save = {\n",
    "    'URL': url,\n",
    "    'l3_name': [L3_Name]* len(image_list),\n",
    "    'product_title': product_title,\n",
    "    'Images': image_list,\n",
    "    'MPN': mpn_list,\n",
    "    'Number': number_list,\n",
    "    'Price': price_list,\n",
    "    'Discontinued': discontinued_list,\n",
    "    'Datasheet':pdf_list,\n",
    "    'Inner_description':inner_description_list,\n",
    "    'Description_2': description_2* len(image_list),\n",
    "    'Specification_1': specs,\n",
    "    \n",
    "}\n",
    "\n",
    "# Save data to DataFrame\n",
    "df = pd.DataFrame(data_save)\n",
    "df.to_csv('product_data.csv', index=False)\n",
    "\n",
    "print(\"Data saved successfully!\")\n"
   ]
  },
  {
   "cell_type": "code",
   "execution_count": null,
   "id": "76c11747-4cba-44fb-8a47-dff5163389a5",
   "metadata": {},
   "outputs": [],
   "source": []
  }
 ],
 "metadata": {
  "kernelspec": {
   "display_name": "Python 3 (ipykernel)",
   "language": "python",
   "name": "python3"
  },
  "language_info": {
   "codemirror_mode": {
    "name": "ipython",
    "version": 3
   },
   "file_extension": ".py",
   "mimetype": "text/x-python",
   "name": "python",
   "nbconvert_exporter": "python",
   "pygments_lexer": "ipython3",
   "version": "3.13.1"
  }
 },
 "nbformat": 4,
 "nbformat_minor": 5
}
